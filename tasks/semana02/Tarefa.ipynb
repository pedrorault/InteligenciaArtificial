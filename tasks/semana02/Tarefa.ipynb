{
 "metadata": {
  "language_info": {
   "codemirror_mode": {
    "name": "ipython",
    "version": 3
   },
   "file_extension": ".py",
   "mimetype": "text/x-python",
   "name": "python",
   "nbconvert_exporter": "python",
   "pygments_lexer": "ipython3",
   "version": "3.8.0"
  },
  "orig_nbformat": 2,
  "kernelspec": {
   "name": "python380jvsc74a57bd032fc75cfd17452380117d29132a5dd8d5a4a88c0714d252fc27796b3c90e214c",
   "display_name": "Python 3.8.0 64-bit ('env')"
  },
  "metadata": {
   "interpreter": {
    "hash": "31f2aee4e71d21fbe5cf8b01ff0e069b9275f58929596ceb00d14d90e3e16cd6"
   }
  }
 },
 "nbformat": 4,
 "nbformat_minor": 2,
 "cells": [
  {
   "source": [
    "\n",
    "| Nome        | nUSP           | \n",
    "| ------------- |:-------------:|\n",
    "| Pedro Raul Taborga da Costa | 4537076 |\n",
    "| Flavio de Figueiroa Teixeira Silva | 1127072|\n",
    "\n",
    "\n",
    "## Tarefas\n",
    "\n",
    "### 0. Baixar o dataset pelo site ou pelo comando\n",
    "\n",
    "```kaggle datasets download mlg-ulb/creditcardfraud``` \n",
    "\n",
    "# 1. Fazer a leitura do conjunto de dados  escolhido usando  bibliotecas prontas ou funções das linguagens de programação Python ou R, por exemplo a biblioteca Pandas do Python."
   ],
   "cell_type": "markdown",
   "metadata": {}
  },
  {
   "source": [
    "import pandas as pd\n",
    "dtFolder = \"../../datasets/\"\n",
    "df = pd.read_csv(dtFolder+\"creditcardfraud.zip\")"
   ],
   "cell_type": "code",
   "metadata": {},
   "execution_count": 1,
   "outputs": []
  },
  {
   "cell_type": "code",
   "execution_count": 2,
   "metadata": {},
   "outputs": [
    {
     "output_type": "execute_result",
     "data": {
      "text/plain": [
       "            Time  Amount  Class         V1         V2        V3        V4  \\\n",
       "0            0.0  149.62      0  -1.359807  -0.072781  2.536347  1.378155   \n",
       "1            0.0    2.69      0   1.191857   0.266151  0.166480  0.448154   \n",
       "2            1.0  378.66      0  -1.358354  -1.340163  1.773209  0.379780   \n",
       "3            1.0  123.50      0  -0.966272  -0.185226  1.792993 -0.863291   \n",
       "4            2.0   69.99      0  -1.158233   0.877737  1.548718  0.403034   \n",
       "...          ...     ...    ...        ...        ...       ...       ...   \n",
       "284802  172786.0    0.77      0 -11.881118  10.071785 -9.834783 -2.066656   \n",
       "284803  172787.0   24.79      0  -0.732789  -0.055080  2.035030 -0.738589   \n",
       "284804  172788.0   67.88      0   1.919565  -0.301254 -3.249640 -0.557828   \n",
       "284805  172788.0   10.00      0  -0.240440   0.530483  0.702510  0.689799   \n",
       "284806  172792.0  217.00      0  -0.533413  -0.189733  0.703337 -0.506271   \n",
       "\n",
       "              V5        V6        V7  ...       V19       V20       V21  \\\n",
       "0      -0.338321  0.462388  0.239599  ...  0.403993  0.251412 -0.018307   \n",
       "1       0.060018 -0.082361 -0.078803  ... -0.145783 -0.069083 -0.225775   \n",
       "2      -0.503198  1.800499  0.791461  ... -2.261857  0.524980  0.247998   \n",
       "3      -0.010309  1.247203  0.237609  ... -1.232622 -0.208038 -0.108300   \n",
       "4      -0.407193  0.095921  0.592941  ...  0.803487  0.408542 -0.009431   \n",
       "...          ...       ...       ...  ...       ...       ...       ...   \n",
       "284802 -5.364473 -2.606837 -4.918215  ... -0.682920  1.475829  0.213454   \n",
       "284803  0.868229  1.058415  0.024330  ... -1.545556  0.059616  0.214205   \n",
       "284804  2.630515  3.031260 -0.296827  ... -0.577252  0.001396  0.232045   \n",
       "284805 -0.377961  0.623708 -0.686180  ...  2.897849  0.127434  0.265245   \n",
       "284806 -0.012546 -0.649617  1.577006  ... -0.256117  0.382948  0.261057   \n",
       "\n",
       "             V22       V23       V24       V25       V26       V27       V28  \n",
       "0       0.277838 -0.110474  0.066928  0.128539 -0.189115  0.133558 -0.021053  \n",
       "1      -0.638672  0.101288 -0.339846  0.167170  0.125895 -0.008983  0.014724  \n",
       "2       0.771679  0.909412 -0.689281 -0.327642 -0.139097 -0.055353 -0.059752  \n",
       "3       0.005274 -0.190321 -1.175575  0.647376 -0.221929  0.062723  0.061458  \n",
       "4       0.798278 -0.137458  0.141267 -0.206010  0.502292  0.219422  0.215153  \n",
       "...          ...       ...       ...       ...       ...       ...       ...  \n",
       "284802  0.111864  1.014480 -0.509348  1.436807  0.250034  0.943651  0.823731  \n",
       "284803  0.924384  0.012463 -1.016226 -0.606624 -0.395255  0.068472 -0.053527  \n",
       "284804  0.578229 -0.037501  0.640134  0.265745 -0.087371  0.004455 -0.026561  \n",
       "284805  0.800049 -0.163298  0.123205 -0.569159  0.546668  0.108821  0.104533  \n",
       "284806  0.643078  0.376777  0.008797 -0.473649 -0.818267 -0.002415  0.013649  \n",
       "\n",
       "[284807 rows x 31 columns]"
      ],
      "text/html": "<div>\n<style scoped>\n    .dataframe tbody tr th:only-of-type {\n        vertical-align: middle;\n    }\n\n    .dataframe tbody tr th {\n        vertical-align: top;\n    }\n\n    .dataframe thead th {\n        text-align: right;\n    }\n</style>\n<table border=\"1\" class=\"dataframe\">\n  <thead>\n    <tr style=\"text-align: right;\">\n      <th></th>\n      <th>Time</th>\n      <th>Amount</th>\n      <th>Class</th>\n      <th>V1</th>\n      <th>V2</th>\n      <th>V3</th>\n      <th>V4</th>\n      <th>V5</th>\n      <th>V6</th>\n      <th>V7</th>\n      <th>...</th>\n      <th>V19</th>\n      <th>V20</th>\n      <th>V21</th>\n      <th>V22</th>\n      <th>V23</th>\n      <th>V24</th>\n      <th>V25</th>\n      <th>V26</th>\n      <th>V27</th>\n      <th>V28</th>\n    </tr>\n  </thead>\n  <tbody>\n    <tr>\n      <th>0</th>\n      <td>0.0</td>\n      <td>149.62</td>\n      <td>0</td>\n      <td>-1.359807</td>\n      <td>-0.072781</td>\n      <td>2.536347</td>\n      <td>1.378155</td>\n      <td>-0.338321</td>\n      <td>0.462388</td>\n      <td>0.239599</td>\n      <td>...</td>\n      <td>0.403993</td>\n      <td>0.251412</td>\n      <td>-0.018307</td>\n      <td>0.277838</td>\n      <td>-0.110474</td>\n      <td>0.066928</td>\n      <td>0.128539</td>\n      <td>-0.189115</td>\n      <td>0.133558</td>\n      <td>-0.021053</td>\n    </tr>\n    <tr>\n      <th>1</th>\n      <td>0.0</td>\n      <td>2.69</td>\n      <td>0</td>\n      <td>1.191857</td>\n      <td>0.266151</td>\n      <td>0.166480</td>\n      <td>0.448154</td>\n      <td>0.060018</td>\n      <td>-0.082361</td>\n      <td>-0.078803</td>\n      <td>...</td>\n      <td>-0.145783</td>\n      <td>-0.069083</td>\n      <td>-0.225775</td>\n      <td>-0.638672</td>\n      <td>0.101288</td>\n      <td>-0.339846</td>\n      <td>0.167170</td>\n      <td>0.125895</td>\n      <td>-0.008983</td>\n      <td>0.014724</td>\n    </tr>\n    <tr>\n      <th>2</th>\n      <td>1.0</td>\n      <td>378.66</td>\n      <td>0</td>\n      <td>-1.358354</td>\n      <td>-1.340163</td>\n      <td>1.773209</td>\n      <td>0.379780</td>\n      <td>-0.503198</td>\n      <td>1.800499</td>\n      <td>0.791461</td>\n      <td>...</td>\n      <td>-2.261857</td>\n      <td>0.524980</td>\n      <td>0.247998</td>\n      <td>0.771679</td>\n      <td>0.909412</td>\n      <td>-0.689281</td>\n      <td>-0.327642</td>\n      <td>-0.139097</td>\n      <td>-0.055353</td>\n      <td>-0.059752</td>\n    </tr>\n    <tr>\n      <th>3</th>\n      <td>1.0</td>\n      <td>123.50</td>\n      <td>0</td>\n      <td>-0.966272</td>\n      <td>-0.185226</td>\n      <td>1.792993</td>\n      <td>-0.863291</td>\n      <td>-0.010309</td>\n      <td>1.247203</td>\n      <td>0.237609</td>\n      <td>...</td>\n      <td>-1.232622</td>\n      <td>-0.208038</td>\n      <td>-0.108300</td>\n      <td>0.005274</td>\n      <td>-0.190321</td>\n      <td>-1.175575</td>\n      <td>0.647376</td>\n      <td>-0.221929</td>\n      <td>0.062723</td>\n      <td>0.061458</td>\n    </tr>\n    <tr>\n      <th>4</th>\n      <td>2.0</td>\n      <td>69.99</td>\n      <td>0</td>\n      <td>-1.158233</td>\n      <td>0.877737</td>\n      <td>1.548718</td>\n      <td>0.403034</td>\n      <td>-0.407193</td>\n      <td>0.095921</td>\n      <td>0.592941</td>\n      <td>...</td>\n      <td>0.803487</td>\n      <td>0.408542</td>\n      <td>-0.009431</td>\n      <td>0.798278</td>\n      <td>-0.137458</td>\n      <td>0.141267</td>\n      <td>-0.206010</td>\n      <td>0.502292</td>\n      <td>0.219422</td>\n      <td>0.215153</td>\n    </tr>\n    <tr>\n      <th>...</th>\n      <td>...</td>\n      <td>...</td>\n      <td>...</td>\n      <td>...</td>\n      <td>...</td>\n      <td>...</td>\n      <td>...</td>\n      <td>...</td>\n      <td>...</td>\n      <td>...</td>\n      <td>...</td>\n      <td>...</td>\n      <td>...</td>\n      <td>...</td>\n      <td>...</td>\n      <td>...</td>\n      <td>...</td>\n      <td>...</td>\n      <td>...</td>\n      <td>...</td>\n      <td>...</td>\n    </tr>\n    <tr>\n      <th>284802</th>\n      <td>172786.0</td>\n      <td>0.77</td>\n      <td>0</td>\n      <td>-11.881118</td>\n      <td>10.071785</td>\n      <td>-9.834783</td>\n      <td>-2.066656</td>\n      <td>-5.364473</td>\n      <td>-2.606837</td>\n      <td>-4.918215</td>\n      <td>...</td>\n      <td>-0.682920</td>\n      <td>1.475829</td>\n      <td>0.213454</td>\n      <td>0.111864</td>\n      <td>1.014480</td>\n      <td>-0.509348</td>\n      <td>1.436807</td>\n      <td>0.250034</td>\n      <td>0.943651</td>\n      <td>0.823731</td>\n    </tr>\n    <tr>\n      <th>284803</th>\n      <td>172787.0</td>\n      <td>24.79</td>\n      <td>0</td>\n      <td>-0.732789</td>\n      <td>-0.055080</td>\n      <td>2.035030</td>\n      <td>-0.738589</td>\n      <td>0.868229</td>\n      <td>1.058415</td>\n      <td>0.024330</td>\n      <td>...</td>\n      <td>-1.545556</td>\n      <td>0.059616</td>\n      <td>0.214205</td>\n      <td>0.924384</td>\n      <td>0.012463</td>\n      <td>-1.016226</td>\n      <td>-0.606624</td>\n      <td>-0.395255</td>\n      <td>0.068472</td>\n      <td>-0.053527</td>\n    </tr>\n    <tr>\n      <th>284804</th>\n      <td>172788.0</td>\n      <td>67.88</td>\n      <td>0</td>\n      <td>1.919565</td>\n      <td>-0.301254</td>\n      <td>-3.249640</td>\n      <td>-0.557828</td>\n      <td>2.630515</td>\n      <td>3.031260</td>\n      <td>-0.296827</td>\n      <td>...</td>\n      <td>-0.577252</td>\n      <td>0.001396</td>\n      <td>0.232045</td>\n      <td>0.578229</td>\n      <td>-0.037501</td>\n      <td>0.640134</td>\n      <td>0.265745</td>\n      <td>-0.087371</td>\n      <td>0.004455</td>\n      <td>-0.026561</td>\n    </tr>\n    <tr>\n      <th>284805</th>\n      <td>172788.0</td>\n      <td>10.00</td>\n      <td>0</td>\n      <td>-0.240440</td>\n      <td>0.530483</td>\n      <td>0.702510</td>\n      <td>0.689799</td>\n      <td>-0.377961</td>\n      <td>0.623708</td>\n      <td>-0.686180</td>\n      <td>...</td>\n      <td>2.897849</td>\n      <td>0.127434</td>\n      <td>0.265245</td>\n      <td>0.800049</td>\n      <td>-0.163298</td>\n      <td>0.123205</td>\n      <td>-0.569159</td>\n      <td>0.546668</td>\n      <td>0.108821</td>\n      <td>0.104533</td>\n    </tr>\n    <tr>\n      <th>284806</th>\n      <td>172792.0</td>\n      <td>217.00</td>\n      <td>0</td>\n      <td>-0.533413</td>\n      <td>-0.189733</td>\n      <td>0.703337</td>\n      <td>-0.506271</td>\n      <td>-0.012546</td>\n      <td>-0.649617</td>\n      <td>1.577006</td>\n      <td>...</td>\n      <td>-0.256117</td>\n      <td>0.382948</td>\n      <td>0.261057</td>\n      <td>0.643078</td>\n      <td>0.376777</td>\n      <td>0.008797</td>\n      <td>-0.473649</td>\n      <td>-0.818267</td>\n      <td>-0.002415</td>\n      <td>0.013649</td>\n    </tr>\n  </tbody>\n</table>\n<p>284807 rows × 31 columns</p>\n</div>"
     },
     "metadata": {},
     "execution_count": 2
    }
   ],
   "source": [
    "# Reorganizando colunas\n",
    "cols = df.columns.tolist()\n",
    "reord = [cols.pop(0),cols.pop(-2),cols.pop(-1)]\n",
    "cols = reord + cols\n",
    "df = df[cols]\n",
    "df\n"
   ]
  },
  {
   "cell_type": "code",
   "execution_count": 3,
   "metadata": {},
   "outputs": [
    {
     "output_type": "execute_result",
     "data": {
      "text/plain": [
       "Fraude         492\n",
       "Legítimo    284315\n",
       "Name: Legalidade, dtype: int64"
      ]
     },
     "metadata": {},
     "execution_count": 3
    }
   ],
   "source": [
    "# Class: 1 se fraude, 0 se legítimo\n",
    "fraude = df[\"Class\"].value_counts().rename(\"Legalidade\")\n",
    "fraude = fraude.rename({0:\"Legítimo\",1:\"Fraude\"}).sort_values()\n",
    "fraude"
   ]
  },
  {
   "cell_type": "code",
   "execution_count": 4,
   "metadata": {},
   "outputs": [
    {
     "output_type": "execute_result",
     "data": {
      "text/plain": [
       "    Amount  Legalidade\n",
       "0  2125.87           1\n",
       "1  1809.68           1\n",
       "2  1504.93           1\n",
       "3  1402.16           1\n",
       "4  1389.56           1\n",
       "5  1354.25           1\n",
       "6  1335.00           1\n",
       "7  1218.89           1\n",
       "8  1096.99           1\n",
       "9   996.27           1"
      ],
      "text/html": "<div>\n<style scoped>\n    .dataframe tbody tr th:only-of-type {\n        vertical-align: middle;\n    }\n\n    .dataframe tbody tr th {\n        vertical-align: top;\n    }\n\n    .dataframe thead th {\n        text-align: right;\n    }\n</style>\n<table border=\"1\" class=\"dataframe\">\n  <thead>\n    <tr style=\"text-align: right;\">\n      <th></th>\n      <th>Amount</th>\n      <th>Legalidade</th>\n    </tr>\n  </thead>\n  <tbody>\n    <tr>\n      <th>0</th>\n      <td>2125.87</td>\n      <td>1</td>\n    </tr>\n    <tr>\n      <th>1</th>\n      <td>1809.68</td>\n      <td>1</td>\n    </tr>\n    <tr>\n      <th>2</th>\n      <td>1504.93</td>\n      <td>1</td>\n    </tr>\n    <tr>\n      <th>3</th>\n      <td>1402.16</td>\n      <td>1</td>\n    </tr>\n    <tr>\n      <th>4</th>\n      <td>1389.56</td>\n      <td>1</td>\n    </tr>\n    <tr>\n      <th>5</th>\n      <td>1354.25</td>\n      <td>1</td>\n    </tr>\n    <tr>\n      <th>6</th>\n      <td>1335.00</td>\n      <td>1</td>\n    </tr>\n    <tr>\n      <th>7</th>\n      <td>1218.89</td>\n      <td>1</td>\n    </tr>\n    <tr>\n      <th>8</th>\n      <td>1096.99</td>\n      <td>1</td>\n    </tr>\n    <tr>\n      <th>9</th>\n      <td>996.27</td>\n      <td>1</td>\n    </tr>\n  </tbody>\n</table>\n</div>"
     },
     "metadata": {},
     "execution_count": 4
    }
   ],
   "source": [
    "maioresFraudes = df.loc[df[\"Class\"] == 1][[\"Amount\",\"Class\"]].sort_values(\"Amount\",ascending=False).head(10)\n",
    "maioresFraudes.reset_index(drop=True).rename(columns={\"Class\":\"Legalidade\"})"
   ]
  },
  {
   "source": [
    "# 2. Verificar se existem dados faltantes no conjunto de dados escolhido, caso sim, pesquise como lidar com eles."
   ],
   "cell_type": "markdown",
   "metadata": {}
  },
  {
   "source": [
    "# is null(0 ou 1) pra cada uma das colunas e soma a quantidade de nulos de cada coluna\n",
    "qtdNulls = df.isnull().sum(axis = 0).rename(\"Qtd. de null\")\n",
    "qtdNulls"
   ],
   "cell_type": "code",
   "metadata": {},
   "execution_count": 5,
   "outputs": [
    {
     "output_type": "execute_result",
     "data": {
      "text/plain": [
       "Time      0\n",
       "Amount    0\n",
       "Class     0\n",
       "V1        0\n",
       "V2        0\n",
       "V3        0\n",
       "V4        0\n",
       "V5        0\n",
       "V6        0\n",
       "V7        0\n",
       "V8        0\n",
       "V9        0\n",
       "V10       0\n",
       "V11       0\n",
       "V12       0\n",
       "V13       0\n",
       "V14       0\n",
       "V15       0\n",
       "V16       0\n",
       "V17       0\n",
       "V18       0\n",
       "V19       0\n",
       "V20       0\n",
       "V21       0\n",
       "V22       0\n",
       "V23       0\n",
       "V24       0\n",
       "V25       0\n",
       "V26       0\n",
       "V27       0\n",
       "V28       0\n",
       "Name: Qtd. de null, dtype: int64"
      ]
     },
     "metadata": {},
     "execution_count": 5
    }
   ]
  },
  {
   "source": [
    "# 3. Se o conjunto de dados escolhido é desbalanceado, aplique alguma técnica de rebalanceamento existente nas bibliotecas do Python ou R."
   ],
   "cell_type": "markdown",
   "metadata": {}
  },
  {
   "source": [
    "## Pré-Rebalanceamento"
   ],
   "cell_type": "markdown",
   "metadata": {}
  },
  {
   "cell_type": "code",
   "execution_count": 6,
   "metadata": {},
   "outputs": [
    {
     "output_type": "execute_result",
     "data": {
      "text/plain": [
       "<AxesSubplot:title={'center':'Tipo de Transações'}>"
      ]
     },
     "metadata": {},
     "execution_count": 6
    },
    {
     "output_type": "display_data",
     "data": {
      "text/plain": "<Figure size 432x288 with 1 Axes>",
      "image/svg+xml": "<?xml version=\"1.0\" encoding=\"utf-8\" standalone=\"no\"?>\n<!DOCTYPE svg PUBLIC \"-//W3C//DTD SVG 1.1//EN\"\n  \"http://www.w3.org/Graphics/SVG/1.1/DTD/svg11.dtd\">\n<svg height=\"260.525pt\" version=\"1.1\" viewBox=\"0 0 394.375 260.525\" width=\"394.375pt\" xmlns=\"http://www.w3.org/2000/svg\" xmlns:xlink=\"http://www.w3.org/1999/xlink\">\n <metadata>\n  <rdf:RDF xmlns:cc=\"http://creativecommons.org/ns#\" xmlns:dc=\"http://purl.org/dc/elements/1.1/\" xmlns:rdf=\"http://www.w3.org/1999/02/22-rdf-syntax-ns#\">\n   <cc:Work>\n    <dc:type rdf:resource=\"http://purl.org/dc/dcmitype/StillImage\"/>\n    <dc:date>2021-04-25T15:26:09.873225</dc:date>\n    <dc:format>image/svg+xml</dc:format>\n    <dc:creator>\n     <cc:Agent>\n      <dc:title>Matplotlib v3.4.1, https://matplotlib.org/</dc:title>\n     </cc:Agent>\n    </dc:creator>\n   </cc:Work>\n  </rdf:RDF>\n </metadata>\n <defs>\n  <style type=\"text/css\">*{stroke-linecap:butt;stroke-linejoin:round;}</style>\n </defs>\n <g id=\"figure_1\">\n  <g id=\"patch_1\">\n   <path d=\"M 0 260.525 \nL 394.375 260.525 \nL 394.375 0 \nL 0 0 \nz\n\" style=\"fill:none;\"/>\n  </g>\n  <g id=\"axes_1\">\n   <g id=\"patch_2\">\n    <path d=\"M 52.375 239.9625 \nL 387.175 239.9625 \nL 387.175 22.5225 \nL 52.375 22.5225 \nz\n\" style=\"fill:#ffffff;\"/>\n   </g>\n   <g id=\"patch_3\">\n    <path clip-path=\"url(#p78f4921d6c)\" d=\"M 94.225 239.9625 \nL 177.925 239.9625 \nL 177.925 32.876786 \nL 94.225 32.876786 \nz\n\" style=\"fill:#008000;\"/>\n   </g>\n   <g id=\"patch_4\">\n    <path clip-path=\"url(#p78f4921d6c)\" d=\"M 261.625 239.9625 \nL 345.325 239.9625 \nL 345.325 239.604143 \nL 261.625 239.604143 \nz\n\" style=\"fill:#ff0000;\"/>\n   </g>\n   <g id=\"matplotlib.axis_1\">\n    <g id=\"xtick_1\">\n     <g id=\"line2d_1\">\n      <defs>\n       <path d=\"M 0 0 \nL 0 3.5 \n\" id=\"mc3658fb500\" style=\"stroke:#000000;stroke-width:0.8;\"/>\n      </defs>\n      <g>\n       <use style=\"stroke:#000000;stroke-width:0.8;\" x=\"136.075\" xlink:href=\"#mc3658fb500\" y=\"239.9625\"/>\n      </g>\n     </g>\n     <g id=\"text_1\">\n      <!-- 0 -->\n      <g transform=\"translate(138.834375 253.325)rotate(-90)scale(0.1 -0.1)\">\n       <defs>\n        <path d=\"M 2034 4250 \nQ 1547 4250 1301 3770 \nQ 1056 3291 1056 2328 \nQ 1056 1369 1301 889 \nQ 1547 409 2034 409 \nQ 2525 409 2770 889 \nQ 3016 1369 3016 2328 \nQ 3016 3291 2770 3770 \nQ 2525 4250 2034 4250 \nz\nM 2034 4750 \nQ 2819 4750 3233 4129 \nQ 3647 3509 3647 2328 \nQ 3647 1150 3233 529 \nQ 2819 -91 2034 -91 \nQ 1250 -91 836 529 \nQ 422 1150 422 2328 \nQ 422 3509 836 4129 \nQ 1250 4750 2034 4750 \nz\n\" id=\"DejaVuSans-30\" transform=\"scale(0.015625)\"/>\n       </defs>\n       <use xlink:href=\"#DejaVuSans-30\"/>\n      </g>\n     </g>\n    </g>\n    <g id=\"xtick_2\">\n     <g id=\"line2d_2\">\n      <g>\n       <use style=\"stroke:#000000;stroke-width:0.8;\" x=\"303.475\" xlink:href=\"#mc3658fb500\" y=\"239.9625\"/>\n      </g>\n     </g>\n     <g id=\"text_2\">\n      <!-- 1 -->\n      <g transform=\"translate(306.234375 253.325)rotate(-90)scale(0.1 -0.1)\">\n       <defs>\n        <path d=\"M 794 531 \nL 1825 531 \nL 1825 4091 \nL 703 3866 \nL 703 4441 \nL 1819 4666 \nL 2450 4666 \nL 2450 531 \nL 3481 531 \nL 3481 0 \nL 794 0 \nL 794 531 \nz\n\" id=\"DejaVuSans-31\" transform=\"scale(0.015625)\"/>\n       </defs>\n       <use xlink:href=\"#DejaVuSans-31\"/>\n      </g>\n     </g>\n    </g>\n   </g>\n   <g id=\"matplotlib.axis_2\">\n    <g id=\"ytick_1\">\n     <g id=\"line2d_3\">\n      <defs>\n       <path d=\"M 0 0 \nL -3.5 0 \n\" id=\"m8c1ae3633c\" style=\"stroke:#000000;stroke-width:0.8;\"/>\n      </defs>\n      <g>\n       <use style=\"stroke:#000000;stroke-width:0.8;\" x=\"52.375\" xlink:href=\"#m8c1ae3633c\" y=\"239.9625\"/>\n      </g>\n     </g>\n     <g id=\"text_3\">\n      <!-- 0 -->\n      <g transform=\"translate(39.0125 243.761719)scale(0.1 -0.1)\">\n       <use xlink:href=\"#DejaVuSans-30\"/>\n      </g>\n     </g>\n    </g>\n    <g id=\"ytick_2\">\n     <g id=\"line2d_4\">\n      <g>\n       <use style=\"stroke:#000000;stroke-width:0.8;\" x=\"52.375\" xlink:href=\"#m8c1ae3633c\" y=\"203.544141\"/>\n      </g>\n     </g>\n     <g id=\"text_4\">\n      <!-- 50000 -->\n      <g transform=\"translate(13.5625 207.34336)scale(0.1 -0.1)\">\n       <defs>\n        <path d=\"M 691 4666 \nL 3169 4666 \nL 3169 4134 \nL 1269 4134 \nL 1269 2991 \nQ 1406 3038 1543 3061 \nQ 1681 3084 1819 3084 \nQ 2600 3084 3056 2656 \nQ 3513 2228 3513 1497 \nQ 3513 744 3044 326 \nQ 2575 -91 1722 -91 \nQ 1428 -91 1123 -41 \nQ 819 9 494 109 \nL 494 744 \nQ 775 591 1075 516 \nQ 1375 441 1709 441 \nQ 2250 441 2565 725 \nQ 2881 1009 2881 1497 \nQ 2881 1984 2565 2268 \nQ 2250 2553 1709 2553 \nQ 1456 2553 1204 2497 \nQ 953 2441 691 2322 \nL 691 4666 \nz\n\" id=\"DejaVuSans-35\" transform=\"scale(0.015625)\"/>\n       </defs>\n       <use xlink:href=\"#DejaVuSans-35\"/>\n       <use x=\"63.623047\" xlink:href=\"#DejaVuSans-30\"/>\n       <use x=\"127.246094\" xlink:href=\"#DejaVuSans-30\"/>\n       <use x=\"190.869141\" xlink:href=\"#DejaVuSans-30\"/>\n       <use x=\"254.492188\" xlink:href=\"#DejaVuSans-30\"/>\n      </g>\n     </g>\n    </g>\n    <g id=\"ytick_3\">\n     <g id=\"line2d_5\">\n      <g>\n       <use style=\"stroke:#000000;stroke-width:0.8;\" x=\"52.375\" xlink:href=\"#m8c1ae3633c\" y=\"167.125782\"/>\n      </g>\n     </g>\n     <g id=\"text_5\">\n      <!-- 100000 -->\n      <g transform=\"translate(7.2 170.925001)scale(0.1 -0.1)\">\n       <use xlink:href=\"#DejaVuSans-31\"/>\n       <use x=\"63.623047\" xlink:href=\"#DejaVuSans-30\"/>\n       <use x=\"127.246094\" xlink:href=\"#DejaVuSans-30\"/>\n       <use x=\"190.869141\" xlink:href=\"#DejaVuSans-30\"/>\n       <use x=\"254.492188\" xlink:href=\"#DejaVuSans-30\"/>\n       <use x=\"318.115234\" xlink:href=\"#DejaVuSans-30\"/>\n      </g>\n     </g>\n    </g>\n    <g id=\"ytick_4\">\n     <g id=\"line2d_6\">\n      <g>\n       <use style=\"stroke:#000000;stroke-width:0.8;\" x=\"52.375\" xlink:href=\"#m8c1ae3633c\" y=\"130.707423\"/>\n      </g>\n     </g>\n     <g id=\"text_6\">\n      <!-- 150000 -->\n      <g transform=\"translate(7.2 134.506642)scale(0.1 -0.1)\">\n       <use xlink:href=\"#DejaVuSans-31\"/>\n       <use x=\"63.623047\" xlink:href=\"#DejaVuSans-35\"/>\n       <use x=\"127.246094\" xlink:href=\"#DejaVuSans-30\"/>\n       <use x=\"190.869141\" xlink:href=\"#DejaVuSans-30\"/>\n       <use x=\"254.492188\" xlink:href=\"#DejaVuSans-30\"/>\n       <use x=\"318.115234\" xlink:href=\"#DejaVuSans-30\"/>\n      </g>\n     </g>\n    </g>\n    <g id=\"ytick_5\">\n     <g id=\"line2d_7\">\n      <g>\n       <use style=\"stroke:#000000;stroke-width:0.8;\" x=\"52.375\" xlink:href=\"#m8c1ae3633c\" y=\"94.289064\"/>\n      </g>\n     </g>\n     <g id=\"text_7\">\n      <!-- 200000 -->\n      <g transform=\"translate(7.2 98.088283)scale(0.1 -0.1)\">\n       <defs>\n        <path d=\"M 1228 531 \nL 3431 531 \nL 3431 0 \nL 469 0 \nL 469 531 \nQ 828 903 1448 1529 \nQ 2069 2156 2228 2338 \nQ 2531 2678 2651 2914 \nQ 2772 3150 2772 3378 \nQ 2772 3750 2511 3984 \nQ 2250 4219 1831 4219 \nQ 1534 4219 1204 4116 \nQ 875 4013 500 3803 \nL 500 4441 \nQ 881 4594 1212 4672 \nQ 1544 4750 1819 4750 \nQ 2544 4750 2975 4387 \nQ 3406 4025 3406 3419 \nQ 3406 3131 3298 2873 \nQ 3191 2616 2906 2266 \nQ 2828 2175 2409 1742 \nQ 1991 1309 1228 531 \nz\n\" id=\"DejaVuSans-32\" transform=\"scale(0.015625)\"/>\n       </defs>\n       <use xlink:href=\"#DejaVuSans-32\"/>\n       <use x=\"63.623047\" xlink:href=\"#DejaVuSans-30\"/>\n       <use x=\"127.246094\" xlink:href=\"#DejaVuSans-30\"/>\n       <use x=\"190.869141\" xlink:href=\"#DejaVuSans-30\"/>\n       <use x=\"254.492188\" xlink:href=\"#DejaVuSans-30\"/>\n       <use x=\"318.115234\" xlink:href=\"#DejaVuSans-30\"/>\n      </g>\n     </g>\n    </g>\n    <g id=\"ytick_6\">\n     <g id=\"line2d_8\">\n      <g>\n       <use style=\"stroke:#000000;stroke-width:0.8;\" x=\"52.375\" xlink:href=\"#m8c1ae3633c\" y=\"57.870705\"/>\n      </g>\n     </g>\n     <g id=\"text_8\">\n      <!-- 250000 -->\n      <g transform=\"translate(7.2 61.669924)scale(0.1 -0.1)\">\n       <use xlink:href=\"#DejaVuSans-32\"/>\n       <use x=\"63.623047\" xlink:href=\"#DejaVuSans-35\"/>\n       <use x=\"127.246094\" xlink:href=\"#DejaVuSans-30\"/>\n       <use x=\"190.869141\" xlink:href=\"#DejaVuSans-30\"/>\n       <use x=\"254.492188\" xlink:href=\"#DejaVuSans-30\"/>\n       <use x=\"318.115234\" xlink:href=\"#DejaVuSans-30\"/>\n      </g>\n     </g>\n    </g>\n   </g>\n   <g id=\"patch_5\">\n    <path d=\"M 52.375 239.9625 \nL 52.375 22.5225 \n\" style=\"fill:none;stroke:#000000;stroke-linecap:square;stroke-linejoin:miter;stroke-width:0.8;\"/>\n   </g>\n   <g id=\"patch_6\">\n    <path d=\"M 387.175 239.9625 \nL 387.175 22.5225 \n\" style=\"fill:none;stroke:#000000;stroke-linecap:square;stroke-linejoin:miter;stroke-width:0.8;\"/>\n   </g>\n   <g id=\"patch_7\">\n    <path d=\"M 52.375 239.9625 \nL 387.175 239.9625 \n\" style=\"fill:none;stroke:#000000;stroke-linecap:square;stroke-linejoin:miter;stroke-width:0.8;\"/>\n   </g>\n   <g id=\"patch_8\">\n    <path d=\"M 52.375 22.5225 \nL 387.175 22.5225 \n\" style=\"fill:none;stroke:#000000;stroke-linecap:square;stroke-linejoin:miter;stroke-width:0.8;\"/>\n   </g>\n   <g id=\"text_9\">\n    <!-- Tipo de Transações -->\n    <g transform=\"translate(162.52 16.5225)scale(0.12 -0.12)\">\n     <defs>\n      <path d=\"M -19 4666 \nL 3928 4666 \nL 3928 4134 \nL 2272 4134 \nL 2272 0 \nL 1638 0 \nL 1638 4134 \nL -19 4134 \nL -19 4666 \nz\n\" id=\"DejaVuSans-54\" transform=\"scale(0.015625)\"/>\n      <path d=\"M 603 3500 \nL 1178 3500 \nL 1178 0 \nL 603 0 \nL 603 3500 \nz\nM 603 4863 \nL 1178 4863 \nL 1178 4134 \nL 603 4134 \nL 603 4863 \nz\n\" id=\"DejaVuSans-69\" transform=\"scale(0.015625)\"/>\n      <path d=\"M 1159 525 \nL 1159 -1331 \nL 581 -1331 \nL 581 3500 \nL 1159 3500 \nL 1159 2969 \nQ 1341 3281 1617 3432 \nQ 1894 3584 2278 3584 \nQ 2916 3584 3314 3078 \nQ 3713 2572 3713 1747 \nQ 3713 922 3314 415 \nQ 2916 -91 2278 -91 \nQ 1894 -91 1617 61 \nQ 1341 213 1159 525 \nz\nM 3116 1747 \nQ 3116 2381 2855 2742 \nQ 2594 3103 2138 3103 \nQ 1681 3103 1420 2742 \nQ 1159 2381 1159 1747 \nQ 1159 1113 1420 752 \nQ 1681 391 2138 391 \nQ 2594 391 2855 752 \nQ 3116 1113 3116 1747 \nz\n\" id=\"DejaVuSans-70\" transform=\"scale(0.015625)\"/>\n      <path d=\"M 1959 3097 \nQ 1497 3097 1228 2736 \nQ 959 2375 959 1747 \nQ 959 1119 1226 758 \nQ 1494 397 1959 397 \nQ 2419 397 2687 759 \nQ 2956 1122 2956 1747 \nQ 2956 2369 2687 2733 \nQ 2419 3097 1959 3097 \nz\nM 1959 3584 \nQ 2709 3584 3137 3096 \nQ 3566 2609 3566 1747 \nQ 3566 888 3137 398 \nQ 2709 -91 1959 -91 \nQ 1206 -91 779 398 \nQ 353 888 353 1747 \nQ 353 2609 779 3096 \nQ 1206 3584 1959 3584 \nz\n\" id=\"DejaVuSans-6f\" transform=\"scale(0.015625)\"/>\n      <path id=\"DejaVuSans-20\" transform=\"scale(0.015625)\"/>\n      <path d=\"M 2906 2969 \nL 2906 4863 \nL 3481 4863 \nL 3481 0 \nL 2906 0 \nL 2906 525 \nQ 2725 213 2448 61 \nQ 2172 -91 1784 -91 \nQ 1150 -91 751 415 \nQ 353 922 353 1747 \nQ 353 2572 751 3078 \nQ 1150 3584 1784 3584 \nQ 2172 3584 2448 3432 \nQ 2725 3281 2906 2969 \nz\nM 947 1747 \nQ 947 1113 1208 752 \nQ 1469 391 1925 391 \nQ 2381 391 2643 752 \nQ 2906 1113 2906 1747 \nQ 2906 2381 2643 2742 \nQ 2381 3103 1925 3103 \nQ 1469 3103 1208 2742 \nQ 947 2381 947 1747 \nz\n\" id=\"DejaVuSans-64\" transform=\"scale(0.015625)\"/>\n      <path d=\"M 3597 1894 \nL 3597 1613 \nL 953 1613 \nQ 991 1019 1311 708 \nQ 1631 397 2203 397 \nQ 2534 397 2845 478 \nQ 3156 559 3463 722 \nL 3463 178 \nQ 3153 47 2828 -22 \nQ 2503 -91 2169 -91 \nQ 1331 -91 842 396 \nQ 353 884 353 1716 \nQ 353 2575 817 3079 \nQ 1281 3584 2069 3584 \nQ 2775 3584 3186 3129 \nQ 3597 2675 3597 1894 \nz\nM 3022 2063 \nQ 3016 2534 2758 2815 \nQ 2500 3097 2075 3097 \nQ 1594 3097 1305 2825 \nQ 1016 2553 972 2059 \nL 3022 2063 \nz\n\" id=\"DejaVuSans-65\" transform=\"scale(0.015625)\"/>\n      <path d=\"M 2631 2963 \nQ 2534 3019 2420 3045 \nQ 2306 3072 2169 3072 \nQ 1681 3072 1420 2755 \nQ 1159 2438 1159 1844 \nL 1159 0 \nL 581 0 \nL 581 3500 \nL 1159 3500 \nL 1159 2956 \nQ 1341 3275 1631 3429 \nQ 1922 3584 2338 3584 \nQ 2397 3584 2469 3576 \nQ 2541 3569 2628 3553 \nL 2631 2963 \nz\n\" id=\"DejaVuSans-72\" transform=\"scale(0.015625)\"/>\n      <path d=\"M 2194 1759 \nQ 1497 1759 1228 1600 \nQ 959 1441 959 1056 \nQ 959 750 1161 570 \nQ 1363 391 1709 391 \nQ 2188 391 2477 730 \nQ 2766 1069 2766 1631 \nL 2766 1759 \nL 2194 1759 \nz\nM 3341 1997 \nL 3341 0 \nL 2766 0 \nL 2766 531 \nQ 2569 213 2275 61 \nQ 1981 -91 1556 -91 \nQ 1019 -91 701 211 \nQ 384 513 384 1019 \nQ 384 1609 779 1909 \nQ 1175 2209 1959 2209 \nL 2766 2209 \nL 2766 2266 \nQ 2766 2663 2505 2880 \nQ 2244 3097 1772 3097 \nQ 1472 3097 1187 3025 \nQ 903 2953 641 2809 \nL 641 3341 \nQ 956 3463 1253 3523 \nQ 1550 3584 1831 3584 \nQ 2591 3584 2966 3190 \nQ 3341 2797 3341 1997 \nz\n\" id=\"DejaVuSans-61\" transform=\"scale(0.015625)\"/>\n      <path d=\"M 3513 2113 \nL 3513 0 \nL 2938 0 \nL 2938 2094 \nQ 2938 2591 2744 2837 \nQ 2550 3084 2163 3084 \nQ 1697 3084 1428 2787 \nQ 1159 2491 1159 1978 \nL 1159 0 \nL 581 0 \nL 581 3500 \nL 1159 3500 \nL 1159 2956 \nQ 1366 3272 1645 3428 \nQ 1925 3584 2291 3584 \nQ 2894 3584 3203 3211 \nQ 3513 2838 3513 2113 \nz\n\" id=\"DejaVuSans-6e\" transform=\"scale(0.015625)\"/>\n      <path d=\"M 2834 3397 \nL 2834 2853 \nQ 2591 2978 2328 3040 \nQ 2066 3103 1784 3103 \nQ 1356 3103 1142 2972 \nQ 928 2841 928 2578 \nQ 928 2378 1081 2264 \nQ 1234 2150 1697 2047 \nL 1894 2003 \nQ 2506 1872 2764 1633 \nQ 3022 1394 3022 966 \nQ 3022 478 2636 193 \nQ 2250 -91 1575 -91 \nQ 1294 -91 989 -36 \nQ 684 19 347 128 \nL 347 722 \nQ 666 556 975 473 \nQ 1284 391 1588 391 \nQ 1994 391 2212 530 \nQ 2431 669 2431 922 \nQ 2431 1156 2273 1281 \nQ 2116 1406 1581 1522 \nL 1381 1569 \nQ 847 1681 609 1914 \nQ 372 2147 372 2553 \nQ 372 3047 722 3315 \nQ 1072 3584 1716 3584 \nQ 2034 3584 2315 3537 \nQ 2597 3491 2834 3397 \nz\n\" id=\"DejaVuSans-73\" transform=\"scale(0.015625)\"/>\n      <path d=\"M 3122 3366 \nL 3122 2828 \nQ 2878 2963 2633 3030 \nQ 2388 3097 2138 3097 \nQ 1578 3097 1268 2742 \nQ 959 2388 959 1747 \nQ 959 1106 1268 751 \nQ 1578 397 2138 397 \nQ 2388 397 2633 464 \nQ 2878 531 3122 666 \nL 3122 134 \nQ 2881 22 2623 -34 \nQ 2366 -91 2075 -91 \nQ 1284 -91 818 406 \nQ 353 903 353 1747 \nQ 353 2603 823 3093 \nQ 1294 3584 2113 3584 \nQ 2378 3584 2631 3529 \nQ 2884 3475 3122 3366 \nz\nM 2311 0 \nQ 2482 -194 2566 -358 \nQ 2651 -522 2651 -672 \nQ 2651 -950 2463 -1092 \nQ 2276 -1234 1907 -1234 \nQ 1764 -1234 1628 -1215 \nQ 1492 -1197 1357 -1159 \nL 1357 -750 \nQ 1464 -803 1579 -826 \nQ 1695 -850 1842 -850 \nQ 2026 -850 2120 -775 \nQ 2214 -700 2214 -556 \nQ 2214 -463 2146 -327 \nQ 2079 -191 1939 0 \nL 2311 0 \nz\n\" id=\"DejaVuSans-e7\" transform=\"scale(0.015625)\"/>\n      <path d=\"M 1959 3097 \nQ 1497 3097 1228 2736 \nQ 959 2375 959 1747 \nQ 959 1119 1226 758 \nQ 1494 397 1959 397 \nQ 2419 397 2687 759 \nQ 2956 1122 2956 1747 \nQ 2956 2369 2687 2733 \nQ 2419 3097 1959 3097 \nz\nM 1959 3584 \nQ 2709 3584 3137 3096 \nQ 3566 2609 3566 1747 \nQ 3566 888 3137 398 \nQ 2709 -91 1959 -91 \nQ 1206 -91 779 398 \nQ 353 888 353 1747 \nQ 353 2609 779 3096 \nQ 1206 3584 1959 3584 \nz\nM 1948 4281 \nL 1769 4453 \nQ 1701 4516 1649 4545 \nQ 1598 4575 1557 4575 \nQ 1438 4575 1382 4461 \nQ 1326 4347 1319 4091 \nL 929 4091 \nQ 935 4513 1094 4742 \nQ 1254 4972 1538 4972 \nQ 1657 4972 1757 4928 \nQ 1857 4884 1973 4781 \nL 2151 4609 \nQ 2219 4547 2271 4517 \nQ 2323 4488 2363 4488 \nQ 2482 4488 2538 4602 \nQ 2594 4716 2601 4972 \nL 2991 4972 \nQ 2985 4550 2825 4320 \nQ 2666 4091 2382 4091 \nQ 2263 4091 2163 4134 \nQ 2063 4178 1948 4281 \nz\n\" id=\"DejaVuSans-f5\" transform=\"scale(0.015625)\"/>\n     </defs>\n     <use xlink:href=\"#DejaVuSans-54\"/>\n     <use x=\"57.958984\" xlink:href=\"#DejaVuSans-69\"/>\n     <use x=\"85.742188\" xlink:href=\"#DejaVuSans-70\"/>\n     <use x=\"149.21875\" xlink:href=\"#DejaVuSans-6f\"/>\n     <use x=\"210.400391\" xlink:href=\"#DejaVuSans-20\"/>\n     <use x=\"242.1875\" xlink:href=\"#DejaVuSans-64\"/>\n     <use x=\"305.664062\" xlink:href=\"#DejaVuSans-65\"/>\n     <use x=\"367.1875\" xlink:href=\"#DejaVuSans-20\"/>\n     <use x=\"398.974609\" xlink:href=\"#DejaVuSans-54\"/>\n     <use x=\"445.308594\" xlink:href=\"#DejaVuSans-72\"/>\n     <use x=\"486.421875\" xlink:href=\"#DejaVuSans-61\"/>\n     <use x=\"547.701172\" xlink:href=\"#DejaVuSans-6e\"/>\n     <use x=\"611.080078\" xlink:href=\"#DejaVuSans-73\"/>\n     <use x=\"663.179688\" xlink:href=\"#DejaVuSans-61\"/>\n     <use x=\"724.458984\" xlink:href=\"#DejaVuSans-e7\"/>\n     <use x=\"779.439453\" xlink:href=\"#DejaVuSans-f5\"/>\n     <use x=\"840.621094\" xlink:href=\"#DejaVuSans-65\"/>\n     <use x=\"902.144531\" xlink:href=\"#DejaVuSans-73\"/>\n    </g>\n   </g>\n  </g>\n </g>\n <defs>\n  <clipPath id=\"p78f4921d6c\">\n   <rect height=\"217.44\" width=\"334.8\" x=\"52.375\" y=\"22.5225\"/>\n  </clipPath>\n </defs>\n</svg>\n",
      "image/png": "[encoded data removed]"
     },
     "metadata": {
      "needs_background": "light"
     }
    }
   ],
   "source": [
    "dfRen = df\n",
    "# dfRen.loc[dfRen[\"Class\"] == 0, \"Class\"] = \"Legal\"\n",
    "# dfRen.loc[dfRen[\"Class\"] == 1, \"Class\"] = \"Fraude\"\n",
    "dfRen[\"Class\"].value_counts().plot(kind=\"bar\", color={\"green\":\"Legal\",\"red\":\"Fraude\"}, title=\"Tipo de Transações\") #lol"
   ]
  },
  {
   "source": [
    "## Após rebalanceamento\n",
    "Dentre as técnicas de rebalanceamento:\n",
    "\n",
    "1. under sampling -> random\n",
    "1. over sampling -> random, SMOTE (synthetic minority oversampling techinique)\n",
    "1. hibrida -> SMOTE -> TOMEK \n",
    "\n",
    "Escolhemos utilizar random undersampling, já que nosso dataset possui a proporção de aproximadamente 1:500 entre os tipos de transação."
   ],
   "cell_type": "markdown",
   "metadata": {}
  },
  {
   "cell_type": "code",
   "execution_count": 7,
   "metadata": {},
   "outputs": [
    {
     "output_type": "execute_result",
     "data": {
      "text/plain": [
       "<AxesSubplot:title={'center':'Tipo de Transações'}>"
      ]
     },
     "metadata": {},
     "execution_count": 7
    },
    {
     "output_type": "display_data",
     "data": {
      "text/plain": "<Figure size 432x288 with 1 Axes>",
      "image/svg+xml": "<?xml version=\"1.0\" encoding=\"utf-8\" standalone=\"no\"?>\n<!DOCTYPE svg PUBLIC \"-//W3C//DTD SVG 1.1//EN\"\n  \"http://www.w3.org/Graphics/SVG/1.1/DTD/svg11.dtd\">\n<svg height=\"260.525pt\" version=\"1.1\" viewBox=\"0 0 375.2875 260.525\" width=\"375.2875pt\" xmlns=\"http://www.w3.org/2000/svg\" xmlns:xlink=\"http://www.w3.org/1999/xlink\">\n <metadata>\n  <rdf:RDF xmlns:cc=\"http://creativecommons.org/ns#\" xmlns:dc=\"http://purl.org/dc/elements/1.1/\" xmlns:rdf=\"http://www.w3.org/1999/02/22-rdf-syntax-ns#\">\n   <cc:Work>\n    <dc:type rdf:resource=\"http://purl.org/dc/dcmitype/StillImage\"/>\n    <dc:date>2021-04-25T15:26:10.308655</dc:date>\n    <dc:format>image/svg+xml</dc:format>\n    <dc:creator>\n     <cc:Agent>\n      <dc:title>Matplotlib v3.4.1, https://matplotlib.org/</dc:title>\n     </cc:Agent>\n    </dc:creator>\n   </cc:Work>\n  </rdf:RDF>\n </metadata>\n <defs>\n  <style type=\"text/css\">*{stroke-linecap:butt;stroke-linejoin:round;}</style>\n </defs>\n <g id=\"figure_1\">\n  <g id=\"patch_1\">\n   <path d=\"M 0 260.525 \nL 375.2875 260.525 \nL 375.2875 0 \nL 0 0 \nz\n\" style=\"fill:none;\"/>\n  </g>\n  <g id=\"axes_1\">\n   <g id=\"patch_2\">\n    <path d=\"M 33.2875 239.9625 \nL 368.0875 239.9625 \nL 368.0875 22.5225 \nL 33.2875 22.5225 \nz\n\" style=\"fill:#ffffff;\"/>\n   </g>\n   <g id=\"patch_3\">\n    <path clip-path=\"url(#pae4f85c8a6)\" d=\"M 75.1375 239.9625 \nL 158.8375 239.9625 \nL 158.8375 32.876786 \nL 75.1375 32.876786 \nz\n\" style=\"fill:#008000;\"/>\n   </g>\n   <g id=\"patch_4\">\n    <path clip-path=\"url(#pae4f85c8a6)\" d=\"M 242.5375 239.9625 \nL 326.2375 239.9625 \nL 326.2375 32.876786 \nL 242.5375 32.876786 \nz\n\" style=\"fill:#ff0000;\"/>\n   </g>\n   <g id=\"matplotlib.axis_1\">\n    <g id=\"xtick_1\">\n     <g id=\"line2d_1\">\n      <defs>\n       <path d=\"M 0 0 \nL 0 3.5 \n\" id=\"m2a9cbec1f0\" style=\"stroke:#000000;stroke-width:0.8;\"/>\n      </defs>\n      <g>\n       <use style=\"stroke:#000000;stroke-width:0.8;\" x=\"116.9875\" xlink:href=\"#m2a9cbec1f0\" y=\"239.9625\"/>\n      </g>\n     </g>\n     <g id=\"text_1\">\n      <!-- 0 -->\n      <g transform=\"translate(119.746875 253.325)rotate(-90)scale(0.1 -0.1)\">\n       <defs>\n        <path d=\"M 2034 4250 \nQ 1547 4250 1301 3770 \nQ 1056 3291 1056 2328 \nQ 1056 1369 1301 889 \nQ 1547 409 2034 409 \nQ 2525 409 2770 889 \nQ 3016 1369 3016 2328 \nQ 3016 3291 2770 3770 \nQ 2525 4250 2034 4250 \nz\nM 2034 4750 \nQ 2819 4750 3233 4129 \nQ 3647 3509 3647 2328 \nQ 3647 1150 3233 529 \nQ 2819 -91 2034 -91 \nQ 1250 -91 836 529 \nQ 422 1150 422 2328 \nQ 422 3509 836 4129 \nQ 1250 4750 2034 4750 \nz\n\" id=\"DejaVuSans-30\" transform=\"scale(0.015625)\"/>\n       </defs>\n       <use xlink:href=\"#DejaVuSans-30\"/>\n      </g>\n     </g>\n    </g>\n    <g id=\"xtick_2\">\n     <g id=\"line2d_2\">\n      <g>\n       <use style=\"stroke:#000000;stroke-width:0.8;\" x=\"284.3875\" xlink:href=\"#m2a9cbec1f0\" y=\"239.9625\"/>\n      </g>\n     </g>\n     <g id=\"text_2\">\n      <!-- 1 -->\n      <g transform=\"translate(287.146875 253.325)rotate(-90)scale(0.1 -0.1)\">\n       <defs>\n        <path d=\"M 794 531 \nL 1825 531 \nL 1825 4091 \nL 703 3866 \nL 703 4441 \nL 1819 4666 \nL 2450 4666 \nL 2450 531 \nL 3481 531 \nL 3481 0 \nL 794 0 \nL 794 531 \nz\n\" id=\"DejaVuSans-31\" transform=\"scale(0.015625)\"/>\n       </defs>\n       <use xlink:href=\"#DejaVuSans-31\"/>\n      </g>\n     </g>\n    </g>\n   </g>\n   <g id=\"matplotlib.axis_2\">\n    <g id=\"ytick_1\">\n     <g id=\"line2d_3\">\n      <defs>\n       <path d=\"M 0 0 \nL -3.5 0 \n\" id=\"m8d6e89616f\" style=\"stroke:#000000;stroke-width:0.8;\"/>\n      </defs>\n      <g>\n       <use style=\"stroke:#000000;stroke-width:0.8;\" x=\"33.2875\" xlink:href=\"#m8d6e89616f\" y=\"239.9625\"/>\n      </g>\n     </g>\n     <g id=\"text_3\">\n      <!-- 0 -->\n      <g transform=\"translate(19.925 243.761719)scale(0.1 -0.1)\">\n       <use xlink:href=\"#DejaVuSans-30\"/>\n      </g>\n     </g>\n    </g>\n    <g id=\"ytick_2\">\n     <g id=\"line2d_4\">\n      <g>\n       <use style=\"stroke:#000000;stroke-width:0.8;\" x=\"33.2875\" xlink:href=\"#m8d6e89616f\" y=\"197.871908\"/>\n      </g>\n     </g>\n     <g id=\"text_4\">\n      <!-- 100 -->\n      <g transform=\"translate(7.2 201.671126)scale(0.1 -0.1)\">\n       <use xlink:href=\"#DejaVuSans-31\"/>\n       <use x=\"63.623047\" xlink:href=\"#DejaVuSans-30\"/>\n       <use x=\"127.246094\" xlink:href=\"#DejaVuSans-30\"/>\n      </g>\n     </g>\n    </g>\n    <g id=\"ytick_3\">\n     <g id=\"line2d_5\">\n      <g>\n       <use style=\"stroke:#000000;stroke-width:0.8;\" x=\"33.2875\" xlink:href=\"#m8d6e89616f\" y=\"155.781315\"/>\n      </g>\n     </g>\n     <g id=\"text_5\">\n      <!-- 200 -->\n      <g transform=\"translate(7.2 159.580534)scale(0.1 -0.1)\">\n       <defs>\n        <path d=\"M 1228 531 \nL 3431 531 \nL 3431 0 \nL 469 0 \nL 469 531 \nQ 828 903 1448 1529 \nQ 2069 2156 2228 2338 \nQ 2531 2678 2651 2914 \nQ 2772 3150 2772 3378 \nQ 2772 3750 2511 3984 \nQ 2250 4219 1831 4219 \nQ 1534 4219 1204 4116 \nQ 875 4013 500 3803 \nL 500 4441 \nQ 881 4594 1212 4672 \nQ 1544 4750 1819 4750 \nQ 2544 4750 2975 4387 \nQ 3406 4025 3406 3419 \nQ 3406 3131 3298 2873 \nQ 3191 2616 2906 2266 \nQ 2828 2175 2409 1742 \nQ 1991 1309 1228 531 \nz\n\" id=\"DejaVuSans-32\" transform=\"scale(0.015625)\"/>\n       </defs>\n       <use xlink:href=\"#DejaVuSans-32\"/>\n       <use x=\"63.623047\" xlink:href=\"#DejaVuSans-30\"/>\n       <use x=\"127.246094\" xlink:href=\"#DejaVuSans-30\"/>\n      </g>\n     </g>\n    </g>\n    <g id=\"ytick_4\">\n     <g id=\"line2d_6\">\n      <g>\n       <use style=\"stroke:#000000;stroke-width:0.8;\" x=\"33.2875\" xlink:href=\"#m8d6e89616f\" y=\"113.690723\"/>\n      </g>\n     </g>\n     <g id=\"text_6\">\n      <!-- 300 -->\n      <g transform=\"translate(7.2 117.489942)scale(0.1 -0.1)\">\n       <defs>\n        <path d=\"M 2597 2516 \nQ 3050 2419 3304 2112 \nQ 3559 1806 3559 1356 \nQ 3559 666 3084 287 \nQ 2609 -91 1734 -91 \nQ 1441 -91 1130 -33 \nQ 819 25 488 141 \nL 488 750 \nQ 750 597 1062 519 \nQ 1375 441 1716 441 \nQ 2309 441 2620 675 \nQ 2931 909 2931 1356 \nQ 2931 1769 2642 2001 \nQ 2353 2234 1838 2234 \nL 1294 2234 \nL 1294 2753 \nL 1863 2753 \nQ 2328 2753 2575 2939 \nQ 2822 3125 2822 3475 \nQ 2822 3834 2567 4026 \nQ 2313 4219 1838 4219 \nQ 1578 4219 1281 4162 \nQ 984 4106 628 3988 \nL 628 4550 \nQ 988 4650 1302 4700 \nQ 1616 4750 1894 4750 \nQ 2613 4750 3031 4423 \nQ 3450 4097 3450 3541 \nQ 3450 3153 3228 2886 \nQ 3006 2619 2597 2516 \nz\n\" id=\"DejaVuSans-33\" transform=\"scale(0.015625)\"/>\n       </defs>\n       <use xlink:href=\"#DejaVuSans-33\"/>\n       <use x=\"63.623047\" xlink:href=\"#DejaVuSans-30\"/>\n       <use x=\"127.246094\" xlink:href=\"#DejaVuSans-30\"/>\n      </g>\n     </g>\n    </g>\n    <g id=\"ytick_5\">\n     <g id=\"line2d_7\">\n      <g>\n       <use style=\"stroke:#000000;stroke-width:0.8;\" x=\"33.2875\" xlink:href=\"#m8d6e89616f\" y=\"71.600131\"/>\n      </g>\n     </g>\n     <g id=\"text_7\">\n      <!-- 400 -->\n      <g transform=\"translate(7.2 75.399349)scale(0.1 -0.1)\">\n       <defs>\n        <path d=\"M 2419 4116 \nL 825 1625 \nL 2419 1625 \nL 2419 4116 \nz\nM 2253 4666 \nL 3047 4666 \nL 3047 1625 \nL 3713 1625 \nL 3713 1100 \nL 3047 1100 \nL 3047 0 \nL 2419 0 \nL 2419 1100 \nL 313 1100 \nL 313 1709 \nL 2253 4666 \nz\n\" id=\"DejaVuSans-34\" transform=\"scale(0.015625)\"/>\n       </defs>\n       <use xlink:href=\"#DejaVuSans-34\"/>\n       <use x=\"63.623047\" xlink:href=\"#DejaVuSans-30\"/>\n       <use x=\"127.246094\" xlink:href=\"#DejaVuSans-30\"/>\n      </g>\n     </g>\n    </g>\n    <g id=\"ytick_6\">\n     <g id=\"line2d_8\">\n      <g>\n       <use style=\"stroke:#000000;stroke-width:0.8;\" x=\"33.2875\" xlink:href=\"#m8d6e89616f\" y=\"29.509538\"/>\n      </g>\n     </g>\n     <g id=\"text_8\">\n      <!-- 500 -->\n      <g transform=\"translate(7.2 33.308757)scale(0.1 -0.1)\">\n       <defs>\n        <path d=\"M 691 4666 \nL 3169 4666 \nL 3169 4134 \nL 1269 4134 \nL 1269 2991 \nQ 1406 3038 1543 3061 \nQ 1681 3084 1819 3084 \nQ 2600 3084 3056 2656 \nQ 3513 2228 3513 1497 \nQ 3513 744 3044 326 \nQ 2575 -91 1722 -91 \nQ 1428 -91 1123 -41 \nQ 819 9 494 109 \nL 494 744 \nQ 775 591 1075 516 \nQ 1375 441 1709 441 \nQ 2250 441 2565 725 \nQ 2881 1009 2881 1497 \nQ 2881 1984 2565 2268 \nQ 2250 2553 1709 2553 \nQ 1456 2553 1204 2497 \nQ 953 2441 691 2322 \nL 691 4666 \nz\n\" id=\"DejaVuSans-35\" transform=\"scale(0.015625)\"/>\n       </defs>\n       <use xlink:href=\"#DejaVuSans-35\"/>\n       <use x=\"63.623047\" xlink:href=\"#DejaVuSans-30\"/>\n       <use x=\"127.246094\" xlink:href=\"#DejaVuSans-30\"/>\n      </g>\n     </g>\n    </g>\n   </g>\n   <g id=\"patch_5\">\n    <path d=\"M 33.2875 239.9625 \nL 33.2875 22.5225 \n\" style=\"fill:none;stroke:#000000;stroke-linecap:square;stroke-linejoin:miter;stroke-width:0.8;\"/>\n   </g>\n   <g id=\"patch_6\">\n    <path d=\"M 368.0875 239.9625 \nL 368.0875 22.5225 \n\" style=\"fill:none;stroke:#000000;stroke-linecap:square;stroke-linejoin:miter;stroke-width:0.8;\"/>\n   </g>\n   <g id=\"patch_7\">\n    <path d=\"M 33.2875 239.9625 \nL 368.0875 239.9625 \n\" style=\"fill:none;stroke:#000000;stroke-linecap:square;stroke-linejoin:miter;stroke-width:0.8;\"/>\n   </g>\n   <g id=\"patch_8\">\n    <path d=\"M 33.2875 22.5225 \nL 368.0875 22.5225 \n\" style=\"fill:none;stroke:#000000;stroke-linecap:square;stroke-linejoin:miter;stroke-width:0.8;\"/>\n   </g>\n   <g id=\"text_9\">\n    <!-- Tipo de Transações -->\n    <g transform=\"translate(143.4325 16.5225)scale(0.12 -0.12)\">\n     <defs>\n      <path d=\"M -19 4666 \nL 3928 4666 \nL 3928 4134 \nL 2272 4134 \nL 2272 0 \nL 1638 0 \nL 1638 4134 \nL -19 4134 \nL -19 4666 \nz\n\" id=\"DejaVuSans-54\" transform=\"scale(0.015625)\"/>\n      <path d=\"M 603 3500 \nL 1178 3500 \nL 1178 0 \nL 603 0 \nL 603 3500 \nz\nM 603 4863 \nL 1178 4863 \nL 1178 4134 \nL 603 4134 \nL 603 4863 \nz\n\" id=\"DejaVuSans-69\" transform=\"scale(0.015625)\"/>\n      <path d=\"M 1159 525 \nL 1159 -1331 \nL 581 -1331 \nL 581 3500 \nL 1159 3500 \nL 1159 2969 \nQ 1341 3281 1617 3432 \nQ 1894 3584 2278 3584 \nQ 2916 3584 3314 3078 \nQ 3713 2572 3713 1747 \nQ 3713 922 3314 415 \nQ 2916 -91 2278 -91 \nQ 1894 -91 1617 61 \nQ 1341 213 1159 525 \nz\nM 3116 1747 \nQ 3116 2381 2855 2742 \nQ 2594 3103 2138 3103 \nQ 1681 3103 1420 2742 \nQ 1159 2381 1159 1747 \nQ 1159 1113 1420 752 \nQ 1681 391 2138 391 \nQ 2594 391 2855 752 \nQ 3116 1113 3116 1747 \nz\n\" id=\"DejaVuSans-70\" transform=\"scale(0.015625)\"/>\n      <path d=\"M 1959 3097 \nQ 1497 3097 1228 2736 \nQ 959 2375 959 1747 \nQ 959 1119 1226 758 \nQ 1494 397 1959 397 \nQ 2419 397 2687 759 \nQ 2956 1122 2956 1747 \nQ 2956 2369 2687 2733 \nQ 2419 3097 1959 3097 \nz\nM 1959 3584 \nQ 2709 3584 3137 3096 \nQ 3566 2609 3566 1747 \nQ 3566 888 3137 398 \nQ 2709 -91 1959 -91 \nQ 1206 -91 779 398 \nQ 353 888 353 1747 \nQ 353 2609 779 3096 \nQ 1206 3584 1959 3584 \nz\n\" id=\"DejaVuSans-6f\" transform=\"scale(0.015625)\"/>\n      <path id=\"DejaVuSans-20\" transform=\"scale(0.015625)\"/>\n      <path d=\"M 2906 2969 \nL 2906 4863 \nL 3481 4863 \nL 3481 0 \nL 2906 0 \nL 2906 525 \nQ 2725 213 2448 61 \nQ 2172 -91 1784 -91 \nQ 1150 -91 751 415 \nQ 353 922 353 1747 \nQ 353 2572 751 3078 \nQ 1150 3584 1784 3584 \nQ 2172 3584 2448 3432 \nQ 2725 3281 2906 2969 \nz\nM 947 1747 \nQ 947 1113 1208 752 \nQ 1469 391 1925 391 \nQ 2381 391 2643 752 \nQ 2906 1113 2906 1747 \nQ 2906 2381 2643 2742 \nQ 2381 3103 1925 3103 \nQ 1469 3103 1208 2742 \nQ 947 2381 947 1747 \nz\n\" id=\"DejaVuSans-64\" transform=\"scale(0.015625)\"/>\n      <path d=\"M 3597 1894 \nL 3597 1613 \nL 953 1613 \nQ 991 1019 1311 708 \nQ 1631 397 2203 397 \nQ 2534 397 2845 478 \nQ 3156 559 3463 722 \nL 3463 178 \nQ 3153 47 2828 -22 \nQ 2503 -91 2169 -91 \nQ 1331 -91 842 396 \nQ 353 884 353 1716 \nQ 353 2575 817 3079 \nQ 1281 3584 2069 3584 \nQ 2775 3584 3186 3129 \nQ 3597 2675 3597 1894 \nz\nM 3022 2063 \nQ 3016 2534 2758 2815 \nQ 2500 3097 2075 3097 \nQ 1594 3097 1305 2825 \nQ 1016 2553 972 2059 \nL 3022 2063 \nz\n\" id=\"DejaVuSans-65\" transform=\"scale(0.015625)\"/>\n      <path d=\"M 2631 2963 \nQ 2534 3019 2420 3045 \nQ 2306 3072 2169 3072 \nQ 1681 3072 1420 2755 \nQ 1159 2438 1159 1844 \nL 1159 0 \nL 581 0 \nL 581 3500 \nL 1159 3500 \nL 1159 2956 \nQ 1341 3275 1631 3429 \nQ 1922 3584 2338 3584 \nQ 2397 3584 2469 3576 \nQ 2541 3569 2628 3553 \nL 2631 2963 \nz\n\" id=\"DejaVuSans-72\" transform=\"scale(0.015625)\"/>\n      <path d=\"M 2194 1759 \nQ 1497 1759 1228 1600 \nQ 959 1441 959 1056 \nQ 959 750 1161 570 \nQ 1363 391 1709 391 \nQ 2188 391 2477 730 \nQ 2766 1069 2766 1631 \nL 2766 1759 \nL 2194 1759 \nz\nM 3341 1997 \nL 3341 0 \nL 2766 0 \nL 2766 531 \nQ 2569 213 2275 61 \nQ 1981 -91 1556 -91 \nQ 1019 -91 701 211 \nQ 384 513 384 1019 \nQ 384 1609 779 1909 \nQ 1175 2209 1959 2209 \nL 2766 2209 \nL 2766 2266 \nQ 2766 2663 2505 2880 \nQ 2244 3097 1772 3097 \nQ 1472 3097 1187 3025 \nQ 903 2953 641 2809 \nL 641 3341 \nQ 956 3463 1253 3523 \nQ 1550 3584 1831 3584 \nQ 2591 3584 2966 3190 \nQ 3341 2797 3341 1997 \nz\n\" id=\"DejaVuSans-61\" transform=\"scale(0.015625)\"/>\n      <path d=\"M 3513 2113 \nL 3513 0 \nL 2938 0 \nL 2938 2094 \nQ 2938 2591 2744 2837 \nQ 2550 3084 2163 3084 \nQ 1697 3084 1428 2787 \nQ 1159 2491 1159 1978 \nL 1159 0 \nL 581 0 \nL 581 3500 \nL 1159 3500 \nL 1159 2956 \nQ 1366 3272 1645 3428 \nQ 1925 3584 2291 3584 \nQ 2894 3584 3203 3211 \nQ 3513 2838 3513 2113 \nz\n\" id=\"DejaVuSans-6e\" transform=\"scale(0.015625)\"/>\n      <path d=\"M 2834 3397 \nL 2834 2853 \nQ 2591 2978 2328 3040 \nQ 2066 3103 1784 3103 \nQ 1356 3103 1142 2972 \nQ 928 2841 928 2578 \nQ 928 2378 1081 2264 \nQ 1234 2150 1697 2047 \nL 1894 2003 \nQ 2506 1872 2764 1633 \nQ 3022 1394 3022 966 \nQ 3022 478 2636 193 \nQ 2250 -91 1575 -91 \nQ 1294 -91 989 -36 \nQ 684 19 347 128 \nL 347 722 \nQ 666 556 975 473 \nQ 1284 391 1588 391 \nQ 1994 391 2212 530 \nQ 2431 669 2431 922 \nQ 2431 1156 2273 1281 \nQ 2116 1406 1581 1522 \nL 1381 1569 \nQ 847 1681 609 1914 \nQ 372 2147 372 2553 \nQ 372 3047 722 3315 \nQ 1072 3584 1716 3584 \nQ 2034 3584 2315 3537 \nQ 2597 3491 2834 3397 \nz\n\" id=\"DejaVuSans-73\" transform=\"scale(0.015625)\"/>\n      <path d=\"M 3122 3366 \nL 3122 2828 \nQ 2878 2963 2633 3030 \nQ 2388 3097 2138 3097 \nQ 1578 3097 1268 2742 \nQ 959 2388 959 1747 \nQ 959 1106 1268 751 \nQ 1578 397 2138 397 \nQ 2388 397 2633 464 \nQ 2878 531 3122 666 \nL 3122 134 \nQ 2881 22 2623 -34 \nQ 2366 -91 2075 -91 \nQ 1284 -91 818 406 \nQ 353 903 353 1747 \nQ 353 2603 823 3093 \nQ 1294 3584 2113 3584 \nQ 2378 3584 2631 3529 \nQ 2884 3475 3122 3366 \nz\nM 2311 0 \nQ 2482 -194 2566 -358 \nQ 2651 -522 2651 -672 \nQ 2651 -950 2463 -1092 \nQ 2276 -1234 1907 -1234 \nQ 1764 -1234 1628 -1215 \nQ 1492 -1197 1357 -1159 \nL 1357 -750 \nQ 1464 -803 1579 -826 \nQ 1695 -850 1842 -850 \nQ 2026 -850 2120 -775 \nQ 2214 -700 2214 -556 \nQ 2214 -463 2146 -327 \nQ 2079 -191 1939 0 \nL 2311 0 \nz\n\" id=\"DejaVuSans-e7\" transform=\"scale(0.015625)\"/>\n      <path d=\"M 1959 3097 \nQ 1497 3097 1228 2736 \nQ 959 2375 959 1747 \nQ 959 1119 1226 758 \nQ 1494 397 1959 397 \nQ 2419 397 2687 759 \nQ 2956 1122 2956 1747 \nQ 2956 2369 2687 2733 \nQ 2419 3097 1959 3097 \nz\nM 1959 3584 \nQ 2709 3584 3137 3096 \nQ 3566 2609 3566 1747 \nQ 3566 888 3137 398 \nQ 2709 -91 1959 -91 \nQ 1206 -91 779 398 \nQ 353 888 353 1747 \nQ 353 2609 779 3096 \nQ 1206 3584 1959 3584 \nz\nM 1948 4281 \nL 1769 4453 \nQ 1701 4516 1649 4545 \nQ 1598 4575 1557 4575 \nQ 1438 4575 1382 4461 \nQ 1326 4347 1319 4091 \nL 929 4091 \nQ 935 4513 1094 4742 \nQ 1254 4972 1538 4972 \nQ 1657 4972 1757 4928 \nQ 1857 4884 1973 4781 \nL 2151 4609 \nQ 2219 4547 2271 4517 \nQ 2323 4488 2363 4488 \nQ 2482 4488 2538 4602 \nQ 2594 4716 2601 4972 \nL 2991 4972 \nQ 2985 4550 2825 4320 \nQ 2666 4091 2382 4091 \nQ 2263 4091 2163 4134 \nQ 2063 4178 1948 4281 \nz\n\" id=\"DejaVuSans-f5\" transform=\"scale(0.015625)\"/>\n     </defs>\n     <use xlink:href=\"#DejaVuSans-54\"/>\n     <use x=\"57.958984\" xlink:href=\"#DejaVuSans-69\"/>\n     <use x=\"85.742188\" xlink:href=\"#DejaVuSans-70\"/>\n     <use x=\"149.21875\" xlink:href=\"#DejaVuSans-6f\"/>\n     <use x=\"210.400391\" xlink:href=\"#DejaVuSans-20\"/>\n     <use x=\"242.1875\" xlink:href=\"#DejaVuSans-64\"/>\n     <use x=\"305.664062\" xlink:href=\"#DejaVuSans-65\"/>\n     <use x=\"367.1875\" xlink:href=\"#DejaVuSans-20\"/>\n     <use x=\"398.974609\" xlink:href=\"#DejaVuSans-54\"/>\n     <use x=\"445.308594\" xlink:href=\"#DejaVuSans-72\"/>\n     <use x=\"486.421875\" xlink:href=\"#DejaVuSans-61\"/>\n     <use x=\"547.701172\" xlink:href=\"#DejaVuSans-6e\"/>\n     <use x=\"611.080078\" xlink:href=\"#DejaVuSans-73\"/>\n     <use x=\"663.179688\" xlink:href=\"#DejaVuSans-61\"/>\n     <use x=\"724.458984\" xlink:href=\"#DejaVuSans-e7\"/>\n     <use x=\"779.439453\" xlink:href=\"#DejaVuSans-f5\"/>\n     <use x=\"840.621094\" xlink:href=\"#DejaVuSans-65\"/>\n     <use x=\"902.144531\" xlink:href=\"#DejaVuSans-73\"/>\n    </g>\n   </g>\n  </g>\n </g>\n <defs>\n  <clipPath id=\"pae4f85c8a6\">\n   <rect height=\"217.44\" width=\"334.8\" x=\"33.2875\" y=\"22.5225\"/>\n  </clipPath>\n </defs>\n</svg>\n",
      "image/png": "[encoded data removed]"
     },
     "metadata": {
      "needs_background": "light"
     }
    }
   ],
   "source": [
    "# Armazenando a quantidade de entradas de cada tipo de transação\n",
    "count_legal, count_fraude = dfRen[\"Class\"].value_counts()\n",
    "\n",
    "# Separando o dataset em 2 dataframes, cada um contendo só um tipo de transação\n",
    "df_legal = dfRen[dfRen[\"Class\"] == 0].reset_index()\n",
    "df_fraude = dfRen[dfRen[\"Class\"] == 1].reset_index()\n",
    "\n",
    "# Escolhe aleatoriamente o mesmo número que temos em fraudes dentre o total de transações legais\n",
    "df_legal_under = df_legal.sample(count_fraude, random_state=1) \n",
    "\n",
    "# Cria e exibe um dataframe a partir da junção dos 2, agora balanceados\n",
    "df_balanced = pd.concat([df_fraude,df_legal_under], axis=0, ignore_index=True).drop(columns=[\"index\"])\n",
    "df_balanced[\"Class\"].value_counts().plot(kind=\"bar\",color={\"green\":\"Legal\",\"red\":\"Fraude\"},title=\"Tipo de Transações\")\n",
    "\n"
   ]
  },
  {
   "source": [
    "# 4. Aplicar alguma técnica de normalização nos dados.\n"
   ],
   "cell_type": "markdown",
   "metadata": {}
  },
  {
   "cell_type": "code",
   "execution_count": 8,
   "metadata": {},
   "outputs": [
    {
     "output_type": "execute_result",
     "data": {
      "text/plain": [
       "         Time    Amount  Class        V1        V2        V3        V4  \\\n",
       "0    0.001466  0.000000    1.0  0.858488  0.410352  0.857855  0.482374   \n",
       "1    0.001848  0.189361    1.0  0.836256  0.260510  0.936338  0.373370   \n",
       "2    0.024966  0.085886    1.0  0.858757  0.404699  0.894216  0.376023   \n",
       "3    0.039589  0.021120    1.0  0.795082  0.392943  0.829264  0.398314   \n",
       "4    0.042677  0.000358    1.0  0.966298  0.441666  0.779476  0.529239   \n",
       "..        ...       ...    ...       ...       ...       ...       ...   \n",
       "979  0.196625  0.020010    0.0  0.970875  0.335100  0.890901  0.158512   \n",
       "980  0.852380  0.061945    0.0  0.908627  0.351242  0.891474  0.250741   \n",
       "981  0.663855  0.031501    0.0  0.896180  0.312522  0.936979  0.032419   \n",
       "982  0.710228  0.017891    0.0  0.911142  0.369778  0.962860  0.192231   \n",
       "983  0.477381  0.041699    0.0  0.952081  0.334038  0.933105  0.301041   \n",
       "\n",
       "           V5        V6        V7  ...       V19       V20       V21  \\\n",
       "0    0.650089  0.386613  0.825923  ...  0.460016  0.304576  0.466293   \n",
       "1    0.706774  0.414696  0.883568  ...  0.445021  0.430239  0.469182   \n",
       "2    0.641069  0.491482  0.888335  ...  0.263457  0.269148  0.450065   \n",
       "3    0.631838  0.364875  0.806618  ...  0.447826  0.285586  0.467419   \n",
       "4    0.774977  0.391954  0.911512  ...  0.107747  0.297079  0.448367   \n",
       "..        ...       ...       ...  ...       ...       ...       ...   \n",
       "979  0.661764  0.507244  0.870524  ...  0.463842  0.274340  0.437418   \n",
       "980  0.664218  0.351577  0.904587  ...  0.360579  0.278468  0.462329   \n",
       "981  0.676513  0.492495  0.874292  ...  0.374348  0.259524  0.451420   \n",
       "982  0.671919  0.520991  0.892395  ...  0.461205  0.305673  0.451585   \n",
       "983  0.654108  0.632902  0.860180  ...  0.195793  0.287565  0.459175   \n",
       "\n",
       "          V22       V23       V24       V25       V26       V27       V28  \n",
       "0    0.513187  0.760060  0.715546  0.690451  0.353048  0.729425  0.430757  \n",
       "1    0.540466  0.834540  0.528449  0.724111  0.271607  0.679606  0.472602  \n",
       "2    0.461164  0.785866  0.591365  0.661747  0.171501  0.707945  0.428478  \n",
       "3    0.525479  0.761234  0.601673  0.720192  0.142558  0.623928  0.662805  \n",
       "4    0.474395  0.752310  0.120477  0.897092  0.451060  0.703139  0.498551  \n",
       "..        ...       ...       ...       ...       ...       ...       ...  \n",
       "979  0.373917  0.783228  0.174962  0.685616  0.459986  0.695827  0.462661  \n",
       "980  0.577650  0.802026  0.863474  0.624274  0.258542  0.715601  0.484282  \n",
       "981  0.530621  0.761163  0.733262  0.644270  0.207230  0.658703  0.422016  \n",
       "982  0.484146  0.772110  0.785036  0.726551  0.190367  0.693715  0.431184  \n",
       "983  0.541002  0.780706  0.314254  0.681972  0.238196  0.714792  0.473559  \n",
       "\n",
       "[984 rows x 31 columns]"
      ],
      "text/html": "<div>\n<style scoped>\n    .dataframe tbody tr th:only-of-type {\n        vertical-align: middle;\n    }\n\n    .dataframe tbody tr th {\n        vertical-align: top;\n    }\n\n    .dataframe thead th {\n        text-align: right;\n    }\n</style>\n<table border=\"1\" class=\"dataframe\">\n  <thead>\n    <tr style=\"text-align: right;\">\n      <th></th>\n      <th>Time</th>\n      <th>Amount</th>\n      <th>Class</th>\n      <th>V1</th>\n      <th>V2</th>\n      <th>V3</th>\n      <th>V4</th>\n      <th>V5</th>\n      <th>V6</th>\n      <th>V7</th>\n      <th>...</th>\n      <th>V19</th>\n      <th>V20</th>\n      <th>V21</th>\n      <th>V22</th>\n      <th>V23</th>\n      <th>V24</th>\n      <th>V25</th>\n      <th>V26</th>\n      <th>V27</th>\n      <th>V28</th>\n    </tr>\n  </thead>\n  <tbody>\n    <tr>\n      <th>0</th>\n      <td>0.001466</td>\n      <td>0.000000</td>\n      <td>1.0</td>\n      <td>0.858488</td>\n      <td>0.410352</td>\n      <td>0.857855</td>\n      <td>0.482374</td>\n      <td>0.650089</td>\n      <td>0.386613</td>\n      <td>0.825923</td>\n      <td>...</td>\n      <td>0.460016</td>\n      <td>0.304576</td>\n      <td>0.466293</td>\n      <td>0.513187</td>\n      <td>0.760060</td>\n      <td>0.715546</td>\n      <td>0.690451</td>\n      <td>0.353048</td>\n      <td>0.729425</td>\n      <td>0.430757</td>\n    </tr>\n    <tr>\n      <th>1</th>\n      <td>0.001848</td>\n      <td>0.189361</td>\n      <td>1.0</td>\n      <td>0.836256</td>\n      <td>0.260510</td>\n      <td>0.936338</td>\n      <td>0.373370</td>\n      <td>0.706774</td>\n      <td>0.414696</td>\n      <td>0.883568</td>\n      <td>...</td>\n      <td>0.445021</td>\n      <td>0.430239</td>\n      <td>0.469182</td>\n      <td>0.540466</td>\n      <td>0.834540</td>\n      <td>0.528449</td>\n      <td>0.724111</td>\n      <td>0.271607</td>\n      <td>0.679606</td>\n      <td>0.472602</td>\n    </tr>\n    <tr>\n      <th>2</th>\n      <td>0.024966</td>\n      <td>0.085886</td>\n      <td>1.0</td>\n      <td>0.858757</td>\n      <td>0.404699</td>\n      <td>0.894216</td>\n      <td>0.376023</td>\n      <td>0.641069</td>\n      <td>0.491482</td>\n      <td>0.888335</td>\n      <td>...</td>\n      <td>0.263457</td>\n      <td>0.269148</td>\n      <td>0.450065</td>\n      <td>0.461164</td>\n      <td>0.785866</td>\n      <td>0.591365</td>\n      <td>0.661747</td>\n      <td>0.171501</td>\n      <td>0.707945</td>\n      <td>0.428478</td>\n    </tr>\n    <tr>\n      <th>3</th>\n      <td>0.039589</td>\n      <td>0.021120</td>\n      <td>1.0</td>\n      <td>0.795082</td>\n      <td>0.392943</td>\n      <td>0.829264</td>\n      <td>0.398314</td>\n      <td>0.631838</td>\n      <td>0.364875</td>\n      <td>0.806618</td>\n      <td>...</td>\n      <td>0.447826</td>\n      <td>0.285586</td>\n      <td>0.467419</td>\n      <td>0.525479</td>\n      <td>0.761234</td>\n      <td>0.601673</td>\n      <td>0.720192</td>\n      <td>0.142558</td>\n      <td>0.623928</td>\n      <td>0.662805</td>\n    </tr>\n    <tr>\n      <th>4</th>\n      <td>0.042677</td>\n      <td>0.000358</td>\n      <td>1.0</td>\n      <td>0.966298</td>\n      <td>0.441666</td>\n      <td>0.779476</td>\n      <td>0.529239</td>\n      <td>0.774977</td>\n      <td>0.391954</td>\n      <td>0.911512</td>\n      <td>...</td>\n      <td>0.107747</td>\n      <td>0.297079</td>\n      <td>0.448367</td>\n      <td>0.474395</td>\n      <td>0.752310</td>\n      <td>0.120477</td>\n      <td>0.897092</td>\n      <td>0.451060</td>\n      <td>0.703139</td>\n      <td>0.498551</td>\n    </tr>\n    <tr>\n      <th>...</th>\n      <td>...</td>\n      <td>...</td>\n      <td>...</td>\n      <td>...</td>\n      <td>...</td>\n      <td>...</td>\n      <td>...</td>\n      <td>...</td>\n      <td>...</td>\n      <td>...</td>\n      <td>...</td>\n      <td>...</td>\n      <td>...</td>\n      <td>...</td>\n      <td>...</td>\n      <td>...</td>\n      <td>...</td>\n      <td>...</td>\n      <td>...</td>\n      <td>...</td>\n      <td>...</td>\n    </tr>\n    <tr>\n      <th>979</th>\n      <td>0.196625</td>\n      <td>0.020010</td>\n      <td>0.0</td>\n      <td>0.970875</td>\n      <td>0.335100</td>\n      <td>0.890901</td>\n      <td>0.158512</td>\n      <td>0.661764</td>\n      <td>0.507244</td>\n      <td>0.870524</td>\n      <td>...</td>\n      <td>0.463842</td>\n      <td>0.274340</td>\n      <td>0.437418</td>\n      <td>0.373917</td>\n      <td>0.783228</td>\n      <td>0.174962</td>\n      <td>0.685616</td>\n      <td>0.459986</td>\n      <td>0.695827</td>\n      <td>0.462661</td>\n    </tr>\n    <tr>\n      <th>980</th>\n      <td>0.852380</td>\n      <td>0.061945</td>\n      <td>0.0</td>\n      <td>0.908627</td>\n      <td>0.351242</td>\n      <td>0.891474</td>\n      <td>0.250741</td>\n      <td>0.664218</td>\n      <td>0.351577</td>\n      <td>0.904587</td>\n      <td>...</td>\n      <td>0.360579</td>\n      <td>0.278468</td>\n      <td>0.462329</td>\n      <td>0.577650</td>\n      <td>0.802026</td>\n      <td>0.863474</td>\n      <td>0.624274</td>\n      <td>0.258542</td>\n      <td>0.715601</td>\n      <td>0.484282</td>\n    </tr>\n    <tr>\n      <th>981</th>\n      <td>0.663855</td>\n      <td>0.031501</td>\n      <td>0.0</td>\n      <td>0.896180</td>\n      <td>0.312522</td>\n      <td>0.936979</td>\n      <td>0.032419</td>\n      <td>0.676513</td>\n      <td>0.492495</td>\n      <td>0.874292</td>\n      <td>...</td>\n      <td>0.374348</td>\n      <td>0.259524</td>\n      <td>0.451420</td>\n      <td>0.530621</td>\n      <td>0.761163</td>\n      <td>0.733262</td>\n      <td>0.644270</td>\n      <td>0.207230</td>\n      <td>0.658703</td>\n      <td>0.422016</td>\n    </tr>\n    <tr>\n      <th>982</th>\n      <td>0.710228</td>\n      <td>0.017891</td>\n      <td>0.0</td>\n      <td>0.911142</td>\n      <td>0.369778</td>\n      <td>0.962860</td>\n      <td>0.192231</td>\n      <td>0.671919</td>\n      <td>0.520991</td>\n      <td>0.892395</td>\n      <td>...</td>\n      <td>0.461205</td>\n      <td>0.305673</td>\n      <td>0.451585</td>\n      <td>0.484146</td>\n      <td>0.772110</td>\n      <td>0.785036</td>\n      <td>0.726551</td>\n      <td>0.190367</td>\n      <td>0.693715</td>\n      <td>0.431184</td>\n    </tr>\n    <tr>\n      <th>983</th>\n      <td>0.477381</td>\n      <td>0.041699</td>\n      <td>0.0</td>\n      <td>0.952081</td>\n      <td>0.334038</td>\n      <td>0.933105</td>\n      <td>0.301041</td>\n      <td>0.654108</td>\n      <td>0.632902</td>\n      <td>0.860180</td>\n      <td>...</td>\n      <td>0.195793</td>\n      <td>0.287565</td>\n      <td>0.459175</td>\n      <td>0.541002</td>\n      <td>0.780706</td>\n      <td>0.314254</td>\n      <td>0.681972</td>\n      <td>0.238196</td>\n      <td>0.714792</td>\n      <td>0.473559</td>\n    </tr>\n  </tbody>\n</table>\n<p>984 rows × 31 columns</p>\n</div>"
     },
     "metadata": {},
     "execution_count": 8
    }
   ],
   "source": [
    "# Normalização por MinMaxScaler, onde os valores ficarão entre 0 e 1, que será útil para algoritmos de aprendizado\n",
    "from sklearn import preprocessing\n",
    "mm_scaler = preprocessing.MinMaxScaler()\n",
    "df_mm = mm_scaler.fit_transform(df_balanced)\n",
    "df_mm = pd.DataFrame(df_mm, columns=cols)\n",
    "df_mm\n"
   ]
  },
  {
   "cell_type": "code",
   "execution_count": 9,
   "metadata": {},
   "outputs": [
    {
     "output_type": "execute_result",
     "data": {
      "text/plain": [
       "[('Time', {'Max': 0.9999999999999999, 'Min': 0.0}),\n",
       " ('Amount', {'Max': 1.0, 'Min': 0.0}),\n",
       " ('Class', {'Max': 1.0, 'Min': 0.0}),\n",
       " ('V1', {'Max': 1.0, 'Min': 0.0}),\n",
       " ('V2', {'Max': 1.0, 'Min': 0.0}),\n",
       " ('V3', {'Max': 1.0, 'Min': 0.0}),\n",
       " ('V4', {'Max': 1.0, 'Min': 0.0}),\n",
       " ('V5', {'Max': 1.0, 'Min': 0.0}),\n",
       " ('V6', {'Max': 0.9999999999999999, 'Min': 0.0}),\n",
       " ('V7', {'Max': 0.9999999999999998, 'Min': 0.0}),\n",
       " ('V8', {'Max': 0.9999999999999999, 'Min': 0.0}),\n",
       " ('V9', {'Max': 1.0000000000000002, 'Min': 0.0}),\n",
       " ('V10', {'Max': 1.0, 'Min': 0.0}),\n",
       " ('V11', {'Max': 1.0, 'Min': 0.0}),\n",
       " ('V12', {'Max': 1.0, 'Min': 0.0}),\n",
       " ('V13', {'Max': 1.0, 'Min': 0.0}),\n",
       " ('V14', {'Max': 1.0, 'Min': 0.0}),\n",
       " ('V15', {'Max': 1.0, 'Min': 0.0}),\n",
       " ('V16', {'Max': 1.0, 'Min': 0.0}),\n",
       " ('V17', {'Max': 1.0, 'Min': 0.0}),\n",
       " ('V18', {'Max': 1.0, 'Min': 0.0}),\n",
       " ('V19', {'Max': 1.0, 'Min': 0.0}),\n",
       " ('V20', {'Max': 1.0, 'Min': 0.0}),\n",
       " ('V21', {'Max': 1.0, 'Min': 0.0}),\n",
       " ('V22', {'Max': 1.0, 'Min': 0.0}),\n",
       " ('V23', {'Max': 1.0, 'Min': 0.0}),\n",
       " ('V24', {'Max': 1.0, 'Min': 0.0}),\n",
       " ('V25', {'Max': 1.0, 'Min': 0.0}),\n",
       " ('V26', {'Max': 1.0, 'Min': 0.0}),\n",
       " ('V27', {'Max': 1.0, 'Min': 0.0}),\n",
       " ('V28', {'Max': 0.9999999999999998, 'Min': 0.0})]"
      ]
     },
     "metadata": {},
     "execution_count": 9
    }
   ],
   "source": [
    "# Mostrando o valor máximo de cada coluna, para mostrar que está normalizado\n",
    "[(col,{\"Max\":df_mm[col].max(), \"Min\":df_mm[col].min() }) for col in df_mm.columns]\n"
   ]
  },
  {
   "source": [
    "# 5. Fazer uma análise exploratória do conjunto de dados escolhido (calcular médias, medianas, variâncias, min, max)"
   ],
   "cell_type": "markdown",
   "metadata": {}
  },
  {
   "cell_type": "code",
   "execution_count": 10,
   "metadata": {},
   "outputs": [
    {
     "output_type": "execute_result",
     "data": {
      "text/plain": [
       "                Time     Amount     Class        V1        V2        V3  \\\n",
       "mean        0.521734   0.041410  0.500000  0.856895  0.404230  0.802675   \n",
       "median  84692.000000  22.000000  0.000000  0.018109  0.065486  0.179846   \n",
       "std         0.279560   0.096369  0.500254  0.168059  0.109562  0.181251   \n",
       "min         0.000000   0.000000  0.000000  0.000000  0.000000  0.000000   \n",
       "max         1.000000   1.000000  1.000000  1.000000  1.000000  1.000000   \n",
       "25%         0.281895   0.000544  0.000000  0.844020  0.346378  0.755749   \n",
       "50%         0.486976   0.006787  0.500000  0.905181  0.378351  0.864017   \n",
       "75%         0.786520   0.035796  1.000000  0.959582  0.434564  0.915474   \n",
       "\n",
       "              V4        V5        V6        V7  ...       V19       V20  \\\n",
       "mean    0.372835  0.618370  0.445464  0.821626  ...  0.449817  0.310023   \n",
       "median -0.019847 -0.054336 -0.274187  0.040103  ...  0.003735 -0.062481   \n",
       "std     0.205069  0.126794  0.136060  0.118161  ...  0.146105  0.068578   \n",
       "min     0.000000  0.000000  0.000000  0.000000  ...  0.000000  0.000000   \n",
       "max     1.000000  1.000000  1.000000  1.000000  ...  1.000000  1.000000   \n",
       "25%     0.218828  0.611285  0.373159  0.815271  ...  0.361171  0.282920   \n",
       "50%     0.313906  0.651526  0.449408  0.864767  ...  0.435395  0.297855   \n",
       "75%     0.501981  0.680263  0.507695  0.882817  ...  0.523830  0.328290   \n",
       "\n",
       "             V21       V22       V23       V24       V25       V26       V27  \\\n",
       "mean    0.462935  0.514706  0.777904  0.599823  0.686288  0.316834  0.712693   \n",
       "median -0.029450  0.006782 -0.011193  0.040976  0.016594 -0.052139  0.001342   \n",
       "std     0.055588  0.068435  0.047266  0.171581  0.096724  0.119364  0.096528   \n",
       "min     0.000000  0.000000  0.000000  0.000000  0.000000  0.000000  0.000000   \n",
       "max     1.000000  1.000000  1.000000  1.000000  1.000000  1.000000  1.000000   \n",
       "25%     0.452541  0.482406  0.769601  0.494303  0.636002  0.237221  0.697016   \n",
       "50%     0.459097  0.515270  0.778039  0.616464  0.692215  0.305873  0.708885   \n",
       "75%     0.469043  0.548013  0.786822  0.729417  0.740107  0.397566  0.748429   \n",
       "\n",
       "             V28  \n",
       "mean    0.476223  \n",
       "median  0.011244  \n",
       "std     0.097894  \n",
       "min     0.000000  \n",
       "max     1.000000  \n",
       "25%     0.450313  \n",
       "50%     0.472582  \n",
       "75%     0.516837  \n",
       "\n",
       "[8 rows x 31 columns]"
      ],
      "text/html": "<div>\n<style scoped>\n    .dataframe tbody tr th:only-of-type {\n        vertical-align: middle;\n    }\n\n    .dataframe tbody tr th {\n        vertical-align: top;\n    }\n\n    .dataframe thead th {\n        text-align: right;\n    }\n</style>\n<table border=\"1\" class=\"dataframe\">\n  <thead>\n    <tr style=\"text-align: right;\">\n      <th></th>\n      <th>Time</th>\n      <th>Amount</th>\n      <th>Class</th>\n      <th>V1</th>\n      <th>V2</th>\n      <th>V3</th>\n      <th>V4</th>\n      <th>V5</th>\n      <th>V6</th>\n      <th>V7</th>\n      <th>...</th>\n      <th>V19</th>\n      <th>V20</th>\n      <th>V21</th>\n      <th>V22</th>\n      <th>V23</th>\n      <th>V24</th>\n      <th>V25</th>\n      <th>V26</th>\n      <th>V27</th>\n      <th>V28</th>\n    </tr>\n  </thead>\n  <tbody>\n    <tr>\n      <th>mean</th>\n      <td>0.521734</td>\n      <td>0.041410</td>\n      <td>0.500000</td>\n      <td>0.856895</td>\n      <td>0.404230</td>\n      <td>0.802675</td>\n      <td>0.372835</td>\n      <td>0.618370</td>\n      <td>0.445464</td>\n      <td>0.821626</td>\n      <td>...</td>\n      <td>0.449817</td>\n      <td>0.310023</td>\n      <td>0.462935</td>\n      <td>0.514706</td>\n      <td>0.777904</td>\n      <td>0.599823</td>\n      <td>0.686288</td>\n      <td>0.316834</td>\n      <td>0.712693</td>\n      <td>0.476223</td>\n    </tr>\n    <tr>\n      <th>median</th>\n      <td>84692.000000</td>\n      <td>22.000000</td>\n      <td>0.000000</td>\n      <td>0.018109</td>\n      <td>0.065486</td>\n      <td>0.179846</td>\n      <td>-0.019847</td>\n      <td>-0.054336</td>\n      <td>-0.274187</td>\n      <td>0.040103</td>\n      <td>...</td>\n      <td>0.003735</td>\n      <td>-0.062481</td>\n      <td>-0.029450</td>\n      <td>0.006782</td>\n      <td>-0.011193</td>\n      <td>0.040976</td>\n      <td>0.016594</td>\n      <td>-0.052139</td>\n      <td>0.001342</td>\n      <td>0.011244</td>\n    </tr>\n    <tr>\n      <th>std</th>\n      <td>0.279560</td>\n      <td>0.096369</td>\n      <td>0.500254</td>\n      <td>0.168059</td>\n      <td>0.109562</td>\n      <td>0.181251</td>\n      <td>0.205069</td>\n      <td>0.126794</td>\n      <td>0.136060</td>\n      <td>0.118161</td>\n      <td>...</td>\n      <td>0.146105</td>\n      <td>0.068578</td>\n      <td>0.055588</td>\n      <td>0.068435</td>\n      <td>0.047266</td>\n      <td>0.171581</td>\n      <td>0.096724</td>\n      <td>0.119364</td>\n      <td>0.096528</td>\n      <td>0.097894</td>\n    </tr>\n    <tr>\n      <th>min</th>\n      <td>0.000000</td>\n      <td>0.000000</td>\n      <td>0.000000</td>\n      <td>0.000000</td>\n      <td>0.000000</td>\n      <td>0.000000</td>\n      <td>0.000000</td>\n      <td>0.000000</td>\n      <td>0.000000</td>\n      <td>0.000000</td>\n      <td>...</td>\n      <td>0.000000</td>\n      <td>0.000000</td>\n      <td>0.000000</td>\n      <td>0.000000</td>\n      <td>0.000000</td>\n      <td>0.000000</td>\n      <td>0.000000</td>\n      <td>0.000000</td>\n      <td>0.000000</td>\n      <td>0.000000</td>\n    </tr>\n    <tr>\n      <th>max</th>\n      <td>1.000000</td>\n      <td>1.000000</td>\n      <td>1.000000</td>\n      <td>1.000000</td>\n      <td>1.000000</td>\n      <td>1.000000</td>\n      <td>1.000000</td>\n      <td>1.000000</td>\n      <td>1.000000</td>\n      <td>1.000000</td>\n      <td>...</td>\n      <td>1.000000</td>\n      <td>1.000000</td>\n      <td>1.000000</td>\n      <td>1.000000</td>\n      <td>1.000000</td>\n      <td>1.000000</td>\n      <td>1.000000</td>\n      <td>1.000000</td>\n      <td>1.000000</td>\n      <td>1.000000</td>\n    </tr>\n    <tr>\n      <th>25%</th>\n      <td>0.281895</td>\n      <td>0.000544</td>\n      <td>0.000000</td>\n      <td>0.844020</td>\n      <td>0.346378</td>\n      <td>0.755749</td>\n      <td>0.218828</td>\n      <td>0.611285</td>\n      <td>0.373159</td>\n      <td>0.815271</td>\n      <td>...</td>\n      <td>0.361171</td>\n      <td>0.282920</td>\n      <td>0.452541</td>\n      <td>0.482406</td>\n      <td>0.769601</td>\n      <td>0.494303</td>\n      <td>0.636002</td>\n      <td>0.237221</td>\n      <td>0.697016</td>\n      <td>0.450313</td>\n    </tr>\n    <tr>\n      <th>50%</th>\n      <td>0.486976</td>\n      <td>0.006787</td>\n      <td>0.500000</td>\n      <td>0.905181</td>\n      <td>0.378351</td>\n      <td>0.864017</td>\n      <td>0.313906</td>\n      <td>0.651526</td>\n      <td>0.449408</td>\n      <td>0.864767</td>\n      <td>...</td>\n      <td>0.435395</td>\n      <td>0.297855</td>\n      <td>0.459097</td>\n      <td>0.515270</td>\n      <td>0.778039</td>\n      <td>0.616464</td>\n      <td>0.692215</td>\n      <td>0.305873</td>\n      <td>0.708885</td>\n      <td>0.472582</td>\n    </tr>\n    <tr>\n      <th>75%</th>\n      <td>0.786520</td>\n      <td>0.035796</td>\n      <td>1.000000</td>\n      <td>0.959582</td>\n      <td>0.434564</td>\n      <td>0.915474</td>\n      <td>0.501981</td>\n      <td>0.680263</td>\n      <td>0.507695</td>\n      <td>0.882817</td>\n      <td>...</td>\n      <td>0.523830</td>\n      <td>0.328290</td>\n      <td>0.469043</td>\n      <td>0.548013</td>\n      <td>0.786822</td>\n      <td>0.729417</td>\n      <td>0.740107</td>\n      <td>0.397566</td>\n      <td>0.748429</td>\n      <td>0.516837</td>\n    </tr>\n  </tbody>\n</table>\n<p>8 rows × 31 columns</p>\n</div>"
     },
     "metadata": {},
     "execution_count": 10
    }
   ],
   "source": [
    "desc = df_mm.describe()\n",
    "desc.drop(index=[\"count\"], inplace=True)\n",
    "desc.loc[\"median\"] = df.median(axis=0)\n",
    "desc.reindex([\"mean\",\"median\",\"std\",\"min\",\"max\",\"25%\",\"50%\",\"75%\"])"
   ]
  }
 ]
}