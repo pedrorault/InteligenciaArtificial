{
 "metadata": {
  "language_info": {
   "codemirror_mode": {
    "name": "ipython",
    "version": 3
   },
   "file_extension": ".py",
   "mimetype": "text/x-python",
   "name": "python",
   "nbconvert_exporter": "python",
   "pygments_lexer": "ipython3",
   "version": "3.6.9"
  },
  "orig_nbformat": 4,
  "kernelspec": {
   "name": "python3",
   "display_name": "Python 3.6.9 64-bit"
  },
  "interpreter": {
   "hash": "31f2aee4e71d21fbe5cf8b01ff0e069b9275f58929596ceb00d14d90e3e16cd6"
  }
 },
 "nbformat": 4,
 "nbformat_minor": 2,
 "cells": [
  {
   "source": [
    "Calculando métodos e métricas considerando a classificação binária do dataset de creditcardfraud como operações fraudulentas ou não."
   ],
   "cell_type": "markdown",
   "metadata": {}
  },
  {
   "cell_type": "code",
   "execution_count": 1,
   "metadata": {},
   "outputs": [],
   "source": [
    "import pandas as pd\n",
    "\n",
    "\n",
    "og_df_pre = pd.read_csv(\"/mnt/78C91DD876D41E26/GitHub/IA/EP/creditcard.zip\")\n",
    "og_df_norm = pd.read_csv(\"/mnt/78C91DD876D41E26/GitHub/IA/EP/creditcard_norm.zip\")\n"
   ]
  },
  {
   "cell_type": "code",
   "execution_count": 2,
   "metadata": {},
   "outputs": [],
   "source": [
    "\n",
    "###\n",
    "### CROSS VALIDATIONE EXAMPLE ###\n",
    "###\n",
    "\n",
    "# from sklearn import model_selection as ms\n",
    "# from sklearn.model_selection import cross_val_score\n",
    "# from sklearn import svm\n",
    "\n",
    "# cols = df_pre.columns.tolist()\n",
    "# classe = cols.pop(2)\n",
    "\n",
    "# # Usando apenas 1000 linhas\n",
    "# a = df_pre.loc[1:1000,cols]\n",
    "# b = df_pre[classe].iloc[0:1000]\n",
    "\n",
    "# kf = ms.KFold(10)\n",
    "# for train_index, test_index in kf.split(X):\n",
    "#     print(\"TRAIN:\", train_index, \"TEST:\", test_index)\n",
    "#     X_train, X_test = X[train_index], X[test_index]\n",
    "#     y_train, y_test = y[train_index], y[test_index]\n",
    "\n",
    "# X = a.to_numpy()\n",
    "# y = b.to_numpy()\n",
    "# clf = svm.SVC(kernel='linear', C=1, random_state=42)\n",
    "# scores = cross_val_score(clf, X, y, cv=10, n_jobs=-1)\n",
    "# print(scores)\n"
   ]
  },
  {
   "source": [
    "## Separando as classes do dataset"
   ],
   "cell_type": "markdown",
   "metadata": {}
  },
  {
   "cell_type": "code",
   "execution_count": 3,
   "metadata": {},
   "outputs": [],
   "source": [
    "from sklearn.model_selection import train_test_split\n",
    "# Colunas para separar o dataset da classe\n",
    "cols = og_df_pre.columns.tolist()\n",
    "classe = cols.pop(2)\n",
    "\n",
    "df_pre = og_df_pre.iloc[0:60000]\n",
    "df_norm = og_df_norm.iloc[0:120000]\n",
    "\n",
    "# todas as linhas\n",
    "X_pre = df_pre.loc[:,cols]  \n",
    "y_pre = df_pre[classe].iloc[:]\n",
    "X_pre_train, X_pre_test, y_pre_train, y_pre_test= train_test_split(X_pre, y_pre, test_size=0.3, random_state=42)\n",
    "\n",
    "\n",
    "X_norm = df_norm.loc[:,cols]\n",
    "y_norm = df_norm[classe].iloc[:]\n",
    "X_norm_train, X_norm_test, y_norm_train, y_norm_test= train_test_split(X_norm, y_norm, test_size=0.3, random_state=42)\n"
   ]
  },
  {
   "source": [
    "## KKN\n"
   ],
   "cell_type": "markdown",
   "metadata": {}
  },
  {
   "cell_type": "code",
   "execution_count": 4,
   "metadata": {},
   "outputs": [],
   "source": [
    "from sklearn.neighbors import  KNeighborsClassifier\n",
    "\n",
    "knn_pre = []\n",
    "knn_norm = []\n",
    "dist = [\"euclidean\",\"manhattan\"]\n",
    "for d in dist:\n",
    "    for i in range(3,12,2):\n",
    "        neigh = KNeighborsClassifier(n_neighbors=i, metric=d, n_jobs=-1)\n",
    "        knn_pre.append(neigh.fit(X_pre_train,y_pre_train))\n",
    "        knn_norm.append(neigh.fit(X_norm_train,y_norm_train))\n",
    "\n"
   ]
  },
  {
   "cell_type": "code",
   "execution_count": 5,
   "metadata": {},
   "outputs": [
    {
     "output_type": "stream",
     "name": "stdout",
     "text": [
      "0.9967222222222222\n",
      "1.0\n"
     ]
    }
   ],
   "source": [
    "for n in range(1):\n",
    "    print(knn_pre[n].score(X_pre_test,y_pre_test))\n",
    "    print(knn_norm[n].score(X_norm_test,y_norm_test))\n"
   ]
  }
 ]
}