{
  "nbformat": 4,
  "nbformat_minor": 0,
  "metadata": {
    "language_info": {
      "codemirror_mode": {
        "name": "ipython",
        "version": 3
      },
      "file_extension": ".py",
      "mimetype": "text/x-python",
      "name": "python",
      "nbconvert_exporter": "python",
      "pygments_lexer": "ipython3",
      "version": "3.8.0"
    },
    "orig_nbformat": 2,
    "kernelspec": {
      "name": "python38032bit90d5fdfd1d4c46c58254c41cacb67e0b",
      "display_name": "Python 3.8.0 32-bit",
      "language": "python"
    },
    "colab": {
      "name": "Tarefa.ipynb",
      "provenance": []
    }
  },
  "cells": [
    {
      "cell_type": "markdown",
      "metadata": {
        "id": "idWS6MY7-qA5"
      },
      "source": [
        "\n",
        "| Nome        | nUSP           | \n",
        "| ------------- |:-------------:|\n",
        "| Pedro Raul Taborga da Costa | 4537076 |\n",
        "| Flavio de Figueiroa Teixeira Silva | 11270722|\n",
        "\n",
        "\n",
        "## Tarefas"
      ]
    },
    {
      "cell_type": "code",
      "metadata": {
        "id": "ZQjzTBH3-qBL"
      },
      "source": [
        "import pandas as pd\n",
        "\n",
        "df_or = pd.DataFrame({\n",
        "    \"x1\": [0,0,1,1],\n",
        "    \"x2\": [0,1,0,1],\n",
        "    \"y\":  [0,1,1,1]\n",
        "})\n",
        "df_and = pd.DataFrame({\n",
        "    \"x1\": [0,0,1,1],\n",
        "    \"x2\": [0,1,0,1],\n",
        "    \"y\":  [0,0,0,1]\n",
        "\n",
        "})\n",
        "#1 é claro, 0 é escuro\n",
        "df_bw = pd.DataFrame({\n",
        "    \"x1\":[0,1,1,0],\n",
        "    \"x2\":[0,0,1,0],\n",
        "    \"x3\":[0,0,0,0],\n",
        "    \"x4\":[0,0,0,1],\n",
        "    \"y\": [0,0,1,0]\n",
        "    \n",
        "})"
      ],
      "execution_count": 7,
      "outputs": []
    },
    {
      "cell_type": "code",
      "metadata": {
        "tags": [],
        "colab": {
          "base_uri": "https://localhost:8080/"
        },
        "id": "rETtKlaN-qBP",
        "outputId": "be3384a4-4408-4bfa-cd82-c24750730bab"
      },
      "source": [
        "import random as r\n",
        "\n",
        "def random_weight(k: int, min_v: int = -5, max_v: int = 5, n_decimal: int = 8):\n",
        "    if 0 in (k,min_v,max_v,n_decimal):\n",
        "        raise ValueError(\"Valores devem ser maiores que 0\")\n",
        "    elif min_v >= max_v:\n",
        "        raise ValueError(\"Min é maior que o max.\")\n",
        "    w_list = [0]\n",
        "    r_min = min_v*(10**n_decimal)\n",
        "    r_max = max_v*(10**n_decimal)\n",
        "    while 0 in w_list:\n",
        "        w_list = list(map(lambda x : x/(10**n_decimal),r.choices(range(r_min,r_max),k=k)))\n",
        "    return w_list\n",
        "\n",
        "def fnet(net):\n",
        "    return 1 if net >= 0.5 else 0\n",
        "\n",
        "def perceptron_train(data: pd.DataFrame, eta: int = 0.1, threshold: float = 1e-2):\n",
        "    n_cols = len(data.columns.to_list())\n",
        "    last_col = data.columns.to_list()[-1]\n",
        "    classes_values = data[last_col]\n",
        "\n",
        "    X = data.iloc[:,:-1]\n",
        "    Y = classes_values\n",
        "\n",
        "    weights = random_weight(n_cols)\n",
        "    print(f\"Pesos Iniciais: \", weights)\n",
        "    sqerror = 2*threshold\n",
        "\n",
        "    while(sqerror > threshold):\n",
        "        sqerror = 0\n",
        "        for i, row in X.iterrows():\n",
        "            theta = pd.Series({\"theta\":1})\n",
        "            row = row.append(theta)\n",
        "\n",
        "            net = (row * weights).sum() \n",
        "            y_output = fnet(net)\n",
        "            y_input = Y.iloc[i]\n",
        "            #print(f\"Esperado: {y_input}\\tCalculado:{y_output}\")\n",
        "\n",
        "            error = y_input - y_output\n",
        "            sqerror += error**2\n",
        "\n",
        "            dE2 = 2*error*-(row)\n",
        "            weights = weights - eta * dE2       \n",
        "        sqerror = sqerror/(X.shape[0])\n",
        "    return weights\n",
        "\n",
        "print(\"OR dataframe:\")\n",
        "or_result = perceptron_train(df_or)\n",
        "print(\"Pesos finais:\", list(or_result))\n",
        "print()\n",
        "print(\"BW dataframe:\")\n",
        "bw_result = perceptron_train(df_bw)\n",
        "print(\"Pesos finais:\", list(bw_result))\n",
        "\n"
      ],
      "execution_count": 36,
      "outputs": [
        {
          "output_type": "stream",
          "text": [
            "OR dataframe:\n",
            "Pesos Iniciais:  [1.34681628, 2.33163565, -3.01276416]\n",
            "Pesos finais: [2.34681628, 2.7316356500000003, -1.6127641599999993]\n",
            "\n",
            "BW dataframe:\n",
            "Pesos Iniciais:  [-1.95679213, 1.32496241, 1.48220923, -3.92854419, 0.62080354]\n",
            "Pesos finais: [-1.55679213, 1.7249624099999998, 1.48220923, -3.92854419, 0.42080354000000003]\n"
          ],
          "name": "stdout"
        }
      ]
    }
  ]
}