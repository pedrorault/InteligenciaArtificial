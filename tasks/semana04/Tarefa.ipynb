{
 "metadata": {
  "language_info": {
   "codemirror_mode": {
    "name": "ipython",
    "version": 3
   },
   "file_extension": ".py",
   "mimetype": "text/x-python",
   "name": "python",
   "nbconvert_exporter": "python",
   "pygments_lexer": "ipython3",
   "version": "3.8.0"
  },
  "orig_nbformat": 2,
  "kernelspec": {
   "name": "python380jvsc74a57bd017afe1aaa1ad0cbe4a3f2f8aa21a1fbb9c1b689d1140abb016f320f16bd16c6d",
   "display_name": "Python 3.8.0 64-bit ('env')"
  }
 },
 "nbformat": 4,
 "nbformat_minor": 2,
 "cells": [
  {
   "source": [
    "\n",
    "| Nome        | nUSP           | \n",
    "| ------------- |:-------------:|\n",
    "| Pedro Raul Taborga da Costa | 4537076 |\n",
    "| Flavio de Figueiroa Teixeira Silva | 11270722|\n",
    "\n",
    "\n",
    "## Tarefas"
   ],
   "cell_type": "markdown",
   "metadata": {}
  },
  {
   "cell_type": "code",
   "execution_count": 2,
   "metadata": {},
   "outputs": [],
   "source": [
    "import pandas as pd\n",
    "\n",
    "df_or = pd.DataFrame({\n",
    "    \"x1\": [0,0,1,1],\n",
    "    \"x2\": [0,1,0,1],\n",
    "    \"y\":  [0,1,1,1]\n",
    "})\n",
    "df_and = pd.DataFrame({\n",
    "    \"x1\": [0,0,1,1],\n",
    "    \"x2\": [0,1,0,1],\n",
    "    \"y\":  [0,0,0,1]\n",
    "\n",
    "})\n",
    "#1 é claro, 0 é escuro\n",
    "df_bw = pd.DataFrame({\n",
    "    \"x1\":[0,1,1,0],\n",
    "    \"x2\":[0,0,1,0],\n",
    "    \"x3\":[0,0,0,0],\n",
    "    \"x4\":[0,0,0,1],\n",
    "    \"y\": [0,0,1,0]\n",
    "    \n",
    "})"
   ]
  },
  {
   "cell_type": "code",
   "execution_count": 21,
   "metadata": {
    "tags": []
   },
   "outputs": [
    {
     "output_type": "stream",
     "name": "stdout",
     "text": [
      "x1       3.278592\nx2       0.099572\ntheta    0.455372\ndtype: float64\n"
     ]
    }
   ],
   "source": [
    "import random as r\n",
    "\n",
    "def random_weight(k: int, min_v: int = -5, max_v: int = 5, n_decimal: int = 8):\n",
    "    if 0 in (k,min_v,max_v,n_decimal):\n",
    "        raise ValueError(\"Valores devem ser maiores que 0\")\n",
    "    elif min_v >= max_v:\n",
    "        raise ValueError(\"Min é maior que o max.\")\n",
    "    w_list = [0]\n",
    "    r_min = min_v*(10**n_decimal)\n",
    "    r_max = max_v*(10**n_decimal)\n",
    "    while 0 in w_list:\n",
    "        w_list = list(map(lambda x : x/(10**n_decimal),r.choices(range(r_min,r_max),k=k)))\n",
    "    return w_list\n",
    "\n",
    "def fnet(net):\n",
    "    return 1 if net >= 0.5 else 0\n",
    "\n",
    "def perceptron_train(data: pd.DataFrame, eta: int = 0.1, threshold: float = 1e-2):\n",
    "    n_cols = len(data.columns.to_list())\n",
    "    last_col = data.columns.to_list()[-1]\n",
    "    classes_values = data[last_col]\n",
    "\n",
    "    X = data.iloc[:,:-1]\n",
    "    Y = classes_values\n",
    "\n",
    "    weights = random_weight(n_cols)\n",
    "    sqerror = 2*threshold\n",
    "\n",
    "    while(sqerror > threshold):\n",
    "        sqerror = 0\n",
    "        for i, row in X.iterrows():\n",
    "            theta = pd.Series({\"theta\":1})\n",
    "            row = row.append(theta)\n",
    "\n",
    "            net = (row * weights).sum() \n",
    "            y_output = fnet(net)\n",
    "            y_input = Y.iloc[i]\n",
    "            # print(f\"Esperado: {y_input}\\tCalculado:{y_output}\")\n",
    "\n",
    "            error = y_input - y_output\n",
    "            sqerror += error**2\n",
    "\n",
    "            dE2 = 2*error*-(row)\n",
    "            weights = weights - eta * dE2\n",
    "\n",
    "        sqerror = sqerror/(X.shape[0])\n",
    "    return weights\n",
    "\n",
    "print((perceptron_train(df_or)))\n",
    "\n"
   ]
  }
 ]
}