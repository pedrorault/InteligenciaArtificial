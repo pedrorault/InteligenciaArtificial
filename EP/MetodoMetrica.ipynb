{
 "metadata": {
  "language_info": {
   "codemirror_mode": {
    "name": "ipython",
    "version": 3
   },
   "file_extension": ".py",
   "mimetype": "text/x-python",
   "name": "python",
   "nbconvert_exporter": "python",
   "pygments_lexer": "ipython3",
   "version": "3.6.9"
  },
  "orig_nbformat": 4,
  "kernelspec": {
   "name": "python3",
   "display_name": "Python 3.6.9 64-bit"
  },
  "interpreter": {
   "hash": "31f2aee4e71d21fbe5cf8b01ff0e069b9275f58929596ceb00d14d90e3e16cd6"
  }
 },
 "nbformat": 4,
 "nbformat_minor": 2,
 "cells": [
  {
   "source": [
    "Calculando métodos e métricas considerando a classificação binária do dataset de creditcardfraud como operações fraudulentas ou não."
   ],
   "cell_type": "markdown",
   "metadata": {}
  },
  {
   "cell_type": "code",
   "execution_count": 1,
   "metadata": {},
   "outputs": [],
   "source": [
    "import pandas as pd\n",
    "\n",
    "\n",
    "df_pre = pd.read_csv(\"/mnt/78C91DD876D41E26/GitHub/IA/EP/creditcard.zip\")\n",
    "df_norm = pd.read_csv(\"/mnt/78C91DD876D41E26/GitHub/IA/EP/creditcard_norm.zip\")\n"
   ]
  },
  {
   "cell_type": "code",
   "execution_count": 7,
   "metadata": {},
   "outputs": [],
   "source": [
    "cols = df_pre.columns.tolist()\n",
    "classe = cols.pop(2)\n",
    "\n",
    "# Usando apenas 1000 linhas\n",
    "a = df_pre.loc[1:1000,cols]\n",
    "b = df_pre[classe].iloc[0:1000]\n"
   ]
  },
  {
   "cell_type": "code",
   "execution_count": 8,
   "metadata": {},
   "outputs": [
    {
     "output_type": "stream",
     "name": "stderr",
     "text": [
      "[Parallel(n_jobs=-1)]: Using backend LokyBackend with 4 concurrent workers.\n",
      "/home/razi/.local/lib/python3.6/site-packages/sklearn/model_selection/_split.py:668: UserWarning: The least populated class in y has only 2 members, which is less than n_splits=10.\n",
      "  % (min_groups, self.n_splits)), UserWarning)\n",
      "[1.   1.   1.   1.   0.99 1.   1.   1.   0.99 0.98]\n",
      "[Parallel(n_jobs=-1)]: Done  10 out of  10 | elapsed:   10.7s finished\n"
     ]
    }
   ],
   "source": [
    "from sklearn import model_selection as ms\n",
    "from sklearn.model_selection import cross_val_score\n",
    "from sklearn import svm\n",
    "\n",
    "# kf = ms.KFold(10)\n",
    "# for train_index, test_index in kf.split(X):\n",
    "#     print(\"TRAIN:\", train_index, \"TEST:\", test_index)\n",
    "#     X_train, X_test = X[train_index], X[test_index]\n",
    "#     y_train, y_test = y[train_index], y[test_index]\n",
    "\n",
    "X = a.to_numpy()\n",
    "y = b.to_numpy()\n",
    "clf = svm.SVC(kernel='linear', C=1, random_state=42)\n",
    "scores = cross_val_score(clf, X, y, cv=10, n_jobs=-1)\n",
    "print(scores)\n"
   ]
  },
  {
   "cell_type": "code",
   "execution_count": null,
   "metadata": {},
   "outputs": [],
   "source": []
  }
 ]
}