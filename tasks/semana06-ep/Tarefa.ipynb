{
 "metadata": {
  "language_info": {
   "codemirror_mode": {
    "name": "ipython",
    "version": 3
   },
   "file_extension": ".py",
   "mimetype": "text/x-python",
   "name": "python",
   "nbconvert_exporter": "python",
   "pygments_lexer": "ipython3",
   "version": "3.8.0"
  },
  "orig_nbformat": 2,
  "kernelspec": {
   "name": "python380jvsc74a57bd017afe1aaa1ad0cbe4a3f2f8aa21a1fbb9c1b689d1140abb016f320f16bd16c6d",
   "display_name": "Python 3.8.0 64-bit ('env': venv)"
  },
  "metadata": {
   "interpreter": {
    "hash": "31f2aee4e71d21fbe5cf8b01ff0e069b9275f58929596ceb00d14d90e3e16cd6"
   }
  }
 },
 "nbformat": 4,
 "nbformat_minor": 2,
 "cells": [
  {
   "source": [
    "\n",
    "| Nome        | nUSP           | \n",
    "| ------------- |:-------------:|\n",
    "| Pedro Raul Taborga da Costa | 4537076 |\n",
    "| Flavio de Figueiroa Teixeira Silva | 11270722|\n",
    "\n",
    "\n",
    "## Tarefas\n",
    "\n",
    "https://stackabuse.com/k-nearest-neighbors-algorithm-in-python-and-scikit-learn/"
   ],
   "cell_type": "markdown",
   "metadata": {}
  },
  {
   "source": [
    "import pandas as pd\n",
    "dt_folder = \"../../datasets/\"\n",
    "df_ren = pd.read_csv(dt_folder+\"creditcardfraud_renamed.zip\")\n",
    "df_norm = pd.read_csv(dt_folder+\"creditcardfraud_normalized.zip\")"
   ],
   "cell_type": "code",
   "metadata": {},
   "execution_count": 1,
   "outputs": []
  },
  {
   "cell_type": "code",
   "execution_count": 58,
   "metadata": {},
   "outputs": [],
   "source": [
    "from sklearn.neighbors import NearestNeighbors\n",
    "from sklearn.model_selection import train_test_split\n",
    "\n",
    "# Usando os atributos v16 e v17, que possuem a maior correlação (>= 0.95)\n",
    "knn = NearestNeighbors(metric=\"euclidean\")\n",
    "\n",
    "reduced = df_ren.iloc[0:10000,:]\n",
    "X, y = reduced.iloc[:,[18,19]],reduced.iloc[:,[2]]\n",
    "x_train, x_test, y_train, y_test = train_test_split(X,y, test_size=0.3, random_state=42)"
   ]
  },
  {
   "cell_type": "code",
   "execution_count": 59,
   "metadata": {},
   "outputs": [
    {
     "output_type": "execute_result",
     "data": {
      "text/plain": [
       "           V16       V17\n",
       "9069  1.421538 -0.501679\n",
       "2603 -0.079876 -0.490070\n",
       "7738  0.029667  0.535226\n",
       "1579 -0.279903 -0.021057\n",
       "5058 -2.326498  1.330861\n",
       "...        ...       ...\n",
       "5734 -0.478120  0.898117\n",
       "5191 -0.510561  0.943053\n",
       "5390 -0.673888  0.795475\n",
       "860  -2.124529  0.896535\n",
       "7270 -0.394874  0.967033\n",
       "\n",
       "[7000 rows x 2 columns]"
      ],
      "text/html": "<div>\n<style scoped>\n    .dataframe tbody tr th:only-of-type {\n        vertical-align: middle;\n    }\n\n    .dataframe tbody tr th {\n        vertical-align: top;\n    }\n\n    .dataframe thead th {\n        text-align: right;\n    }\n</style>\n<table border=\"1\" class=\"dataframe\">\n  <thead>\n    <tr style=\"text-align: right;\">\n      <th></th>\n      <th>V16</th>\n      <th>V17</th>\n    </tr>\n  </thead>\n  <tbody>\n    <tr>\n      <th>9069</th>\n      <td>1.421538</td>\n      <td>-0.501679</td>\n    </tr>\n    <tr>\n      <th>2603</th>\n      <td>-0.079876</td>\n      <td>-0.490070</td>\n    </tr>\n    <tr>\n      <th>7738</th>\n      <td>0.029667</td>\n      <td>0.535226</td>\n    </tr>\n    <tr>\n      <th>1579</th>\n      <td>-0.279903</td>\n      <td>-0.021057</td>\n    </tr>\n    <tr>\n      <th>5058</th>\n      <td>-2.326498</td>\n      <td>1.330861</td>\n    </tr>\n    <tr>\n      <th>...</th>\n      <td>...</td>\n      <td>...</td>\n    </tr>\n    <tr>\n      <th>5734</th>\n      <td>-0.478120</td>\n      <td>0.898117</td>\n    </tr>\n    <tr>\n      <th>5191</th>\n      <td>-0.510561</td>\n      <td>0.943053</td>\n    </tr>\n    <tr>\n      <th>5390</th>\n      <td>-0.673888</td>\n      <td>0.795475</td>\n    </tr>\n    <tr>\n      <th>860</th>\n      <td>-2.124529</td>\n      <td>0.896535</td>\n    </tr>\n    <tr>\n      <th>7270</th>\n      <td>-0.394874</td>\n      <td>0.967033</td>\n    </tr>\n  </tbody>\n</table>\n<p>7000 rows × 2 columns</p>\n</div>"
     },
     "metadata": {},
     "execution_count": 59
    }
   ],
   "source": [
    "from sklearn.neighbors import KNeighborsClassifier\n",
    "\n",
    "classifier = KNeighborsClassifier()\n",
    "# classifier.fit(x_train,y_train)\n",
    "x_train"
   ]
  }
 ]
}